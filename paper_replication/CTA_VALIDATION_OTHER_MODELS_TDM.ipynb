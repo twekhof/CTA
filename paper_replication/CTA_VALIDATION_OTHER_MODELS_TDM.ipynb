{
 "cells": [
  {
   "cell_type": "code",
   "execution_count": 1,
   "id": "1fdcad4f",
   "metadata": {},
   "outputs": [],
   "source": [
    "import CTApy\n",
    "import pandas as pd\n",
    "import numpy as np\n",
    "import random\n",
    "import os\n",
    "\n",
    "import statsmodels.api as sm\n",
    "import matplotlib.pyplot as plt\n",
    "import numpy as np\n",
    "from gensim.models import fasttext\n",
    "import torch\n",
    "from sentence_transformers import SentenceTransformer\n",
    "from bertopic import BERTopic\n",
    "from bertopic.representation import KeyBERTInspired\n",
    "from umap import UMAP\n"
   ]
  },
  {
   "cell_type": "code",
   "execution_count": 2,
   "id": "4cf4aacb",
   "metadata": {},
   "outputs": [
    {
     "data": {
      "text/plain": [
       "<torch._C.Generator at 0x2803fbd1b30>"
      ]
     },
     "execution_count": 2,
     "metadata": {},
     "output_type": "execute_result"
    }
   ],
   "source": [
    "# Set a seed value\n",
    "seed_value = 42  # can be any number\n",
    "\n",
    "os.environ['PYTHONHASHSEED'] = str(seed_value)\n",
    "\n",
    "random.seed(seed_value)\n",
    "\n",
    "np.random.seed(seed_value)\n",
    "\n",
    "torch.manual_seed(seed_value)"
   ]
  },
  {
   "cell_type": "code",
   "execution_count": 3,
   "id": "32d3d0b8",
   "metadata": {},
   "outputs": [],
   "source": [
    "# load data\n",
    "path_data=\"\"\n",
    "df = pd.read_csv(path_data+\"cta_data/tdm_lemmatized.csv\",sep=\",\",dtype=str)\n",
    "\n",
    "\n",
    "path_graphs=\"\""
   ]
  },
  {
   "cell_type": "code",
   "execution_count": 4,
   "id": "4195ad47",
   "metadata": {},
   "outputs": [],
   "source": [
    "# Prepare data for the fasttext model\n",
    "data_words = df['text_lemma'].str.split().tolist()"
   ]
  },
  {
   "cell_type": "code",
   "execution_count": 5,
   "id": "2d0728bb",
   "metadata": {},
   "outputs": [
    {
     "data": {
      "text/plain": [
       "(410, 2154)"
      ]
     },
     "execution_count": 5,
     "metadata": {},
     "output_type": "execute_result"
    }
   ],
   "source": [
    "# Load pre-trained model\n",
    "pretrained_model = fasttext.load_facebook_model(\"research_data/cc.en.300.bin\")\n",
    "\n",
    "# Update the model with new data\n",
    "pretrained_model.build_vocab(corpus_iterable=data_words, update=True)\n",
    "pretrained_model.train(corpus_iterable=data_words, total_examples=len(data_words), epochs=pretrained_model.epochs)"
   ]
  },
  {
   "cell_type": "code",
   "execution_count": 9,
   "id": "3fbb1b18",
   "metadata": {},
   "outputs": [],
   "source": [
    "text_lemma=df['text_lemma']\n",
    "outcome=df['outcome']"
   ]
  },
  {
   "cell_type": "code",
   "execution_count": 10,
   "id": "7fe1dbcb",
   "metadata": {},
   "outputs": [],
   "source": [
    "sentence_model = SentenceTransformer(\"all-mpnet-base-v2\")"
   ]
  },
  {
   "cell_type": "code",
   "execution_count": 11,
   "id": "835e3635",
   "metadata": {},
   "outputs": [],
   "source": [
    "# Create a UMAP model with the seed value\n",
    "# umap_model = UMAP(random_state=seed_value)\n",
    "umap_model = UMAP(random_state=42)\n",
    "\n",
    "# Fine-tune your topic representations\n",
    "representation_model = KeyBERTInspired()\n",
    "# topic_model = BERTopic(umap_model=umap_model,representation_model=representation_model,embedding_model=sentence_model)\n",
    "topic_model = BERTopic(umap_model=umap_model,representation_model=representation_model,nr_topics=5,calculate_probabilities=True)\n",
    "# topics, probs = topic_model.fit_transform(text_lemma)\n",
    "# topics, probs = topic_model.fit_transform(df['open.ended.response'])"
   ]
  },
  {
   "cell_type": "code",
   "execution_count": 12,
   "id": "32f4ca8e",
   "metadata": {},
   "outputs": [],
   "source": [
    "# Get the topics for each document\n",
    "topics,probabilities = topic_model.fit_transform(text_lemma)\n",
    "# topics, _ = topic_model.fit_transform(text_lemma_tosave['text_raw'])\n",
    "\n",
    "# Get unique topics\n",
    "unique_topics = np.unique(topics)"
   ]
  },
  {
   "cell_type": "code",
   "execution_count": 13,
   "id": "f73fc502",
   "metadata": {},
   "outputs": [
    {
     "data": {
      "image/png": "[encoded data removed]",
      "text/plain": [
       "<Figure size 1000x500 with 1 Axes>"
      ]
     },
     "metadata": {},
     "output_type": "display_data"
    }
   ],
   "source": [
    "df = pd.DataFrame({'topic':topics,'treatment':outcome})\n",
    "# Convert \"topic\" into dummy variables and prefix the column names with \"topic_\"\n",
    "df_dummies = pd.get_dummies(df['topic'], prefix='topic')*1\n",
    "\n",
    "# Check if 'topic_-1' is in the DataFrame\n",
    "if 'topic_-1' in df_dummies.columns:\n",
    "    # Remove 'topic_-1' column\n",
    "    df_dummies = df_dummies.drop(columns='topic_-1')\n",
    "\n",
    "# Concatenate the outcome column with the new dummy columns\n",
    "df_final = pd.concat([df['treatment'], df_dummies], axis=1)\n",
    "\n",
    "# Convert DataFrame to numeric data type\n",
    "df_final = df_final.apply(pd.to_numeric, errors='coerce')\n",
    "df_final.columns=['Topic 1','Topic 2','Topic 3','Topic 4','treatment'] \n",
    "\n",
    "# Store coefficients and confidence intervals\n",
    "coefficients = []\n",
    "conf_intervals = []\n",
    "\n",
    "# Run a linear regression for each topic dummy\n",
    "for column in df_final.columns:\n",
    "    if column != 'treatment':\n",
    "        X = df_final['treatment']\n",
    "        y = df_final[column]\n",
    "        X = sm.add_constant(X)  # adding a constant\n",
    "\n",
    "        model = sm.OLS(y, X).fit()\n",
    "        coefficients.append(model.params[1])\n",
    "        conf_intervals.append(model.conf_int(alpha=0.1).iloc[1].values)\n",
    "\n",
    "# Define your desired font size and marker size\n",
    "font_size = 18\n",
    "marker_size = 10\n",
    "line_width = 2\n",
    "# Plot coefficients with confidence intervals\n",
    "plt.figure(figsize=(10, 5))\n",
    "\n",
    "topic_order=np.arange(len(coefficients),0,-1)-1\n",
    "\n",
    "plt.errorbar(coefficients, topic_order, \n",
    "             xerr=[abs((top-bot)/2) for top, bot in conf_intervals],\n",
    "             fmt='o', markersize=marker_size, elinewidth=line_width)\n",
    "plt.yticks(topic_order, df_final.columns[df_final.columns != 'treatment'], fontsize=font_size)\n",
    "\n",
    "# Get the current limits of the x-axis\n",
    "xmin, xmax = plt.xlim()\n",
    "\n",
    "# Define x-axis labels and their positions\n",
    "labels = ['Reflection', u'\\u2190 Correlation \\u2192', 'Intuition']  # Unicode characters for left and right arrows\n",
    "positions = [xmin, (xmin + xmax) / 2, xmax]  # Place 'Correlation' at the middle of the x-axis\n",
    "\n",
    "# Add new x-axis labels\n",
    "for pos, label in zip(positions, labels):\n",
    "    plt.text(pos, -0.15, label, fontsize=font_size, ha='center', va='top', transform=plt.gca().get_xaxis_transform())\n",
    "\n",
    "# Increase font size for original x-axis labels\n",
    "plt.xticks(fontsize=font_size)\n",
    "\n",
    "plt.axvline(0, color='black',linewidth=1)\n",
    "\n",
    "plt.savefig(path_graphs+'bertopic_topic_tdm.png',bbox_inches='tight')\n",
    "plt.show()"
   ]
  },
  {
   "cell_type": "code",
   "execution_count": 14,
   "id": "775dd94c",
   "metadata": {},
   "outputs": [
    {
     "name": "stdout",
     "output_type": "stream",
     "text": [
      "[['benefit', 'contribute', 'group', 'contribution', 'interest'], ['cent', 'contribute', '40', 'contribution', 'amount'], ['belief', 'faith', 'religious', 'religion', 'prayer'], ['money', 'earn', 'dollar', 'want', 'gain']]\n"
     ]
    }
   ],
   "source": [
    "# Get the topics\n",
    "topics = topic_model.get_topic_info()['Topic'].unique()\n",
    "\n",
    "# Initialize an empty list to hold the top words for each topic\n",
    "top_words_per_topic = []\n",
    "\n",
    "# Loop over the topics\n",
    "for topic in topics:\n",
    "    if topic != -1:  # We skip -1 as it represents the 'unclassified' topic\n",
    "        # Get the top 5 words for the topic\n",
    "        top_words = [word for word, prob in topic_model.get_topic(topic)[:5]]\n",
    "        # Add the top words to our list\n",
    "        top_words_per_topic.append(top_words)\n",
    "print(top_words_per_topic) "
   ]
  },
  {
   "cell_type": "code",
   "execution_count": 15,
   "id": "bb14a877",
   "metadata": {},
   "outputs": [
    {
     "data": {
      "text/plain": [
       "[['benefit', 'contribute', 'group', 'contribution', 'interest'],\n",
       " ['cent', 'contribute', '40', 'contribution', 'amount'],\n",
       " ['belief', 'faith', 'religious', 'religion', 'prayer'],\n",
       " ['money', 'earn', 'dollar', 'want', 'gain']]"
      ]
     },
     "execution_count": 15,
     "metadata": {},
     "output_type": "execute_result"
    }
   ],
   "source": [
    "top_words_per_topic"
   ]
  },
  {
   "cell_type": "code",
   "execution_count": 16,
   "id": "451df493",
   "metadata": {},
   "outputs": [],
   "source": [
    "# Flatten the list of lists into a single list\n",
    "all_words_bertopic_top5 = [word for sublist in top_words_per_topic for word in sublist]\n",
    "\n",
    "# Remove duplicates by converting the list to a set\n",
    "unique_words = set(all_words_bertopic_top5)\n",
    "\n",
    "# If you need a list, convert the set back to a list\n",
    "all_words_bertopic_top5 = list(unique_words)\n",
    "\n"
   ]
  },
  {
   "cell_type": "code",
   "execution_count": 17,
   "id": "1343d798",
   "metadata": {},
   "outputs": [],
   "source": [
    "# cosine_matrix_bertopic=create_cosine_matrix(pretrained_model, all_words_bertopic_top5)\n",
    "cosine_matrix_bertopic=CTApy.create_cosine_matrix(pretrained_model, all_words_bertopic_top5)\n"
   ]
  },
  {
   "cell_type": "code",
   "execution_count": 1,
   "id": "6a9462da",
   "metadata": {},
   "outputs": [
    {
     "ename": "NameError",
     "evalue": "name 'CTApy' is not defined",
     "output_type": "error",
     "traceback": [
      "\u001b[1;31m---------------------------------------------------------------------------\u001b[0m",
      "\u001b[1;31mNameError\u001b[0m                                 Traceback (most recent call last)",
      "Cell \u001b[1;32mIn[1], line 2\u001b[0m\n\u001b[0;32m      1\u001b[0m \u001b[38;5;66;03m# Overall quality score BERTopic\u001b[39;00m\n\u001b[1;32m----> 2\u001b[0m CTApy\u001b[38;5;241m.\u001b[39mcalculate_quality_all(top_words_per_topic, cosine_matrix_bertopic)\n",
      "\u001b[1;31mNameError\u001b[0m: name 'CTApy' is not defined"
     ]
    }
   ],
   "source": [
    "# Overall quality score BERTopic\n",
    "CTApy.calculate_quality_all(top_words_per_topic, cosine_matrix_bertopic)"
   ]
  },
  {
   "cell_type": "code",
   "execution_count": null,
   "id": "750b75d7",
   "metadata": {},
   "outputs": [],
   "source": []
  },
  {
   "cell_type": "code",
   "execution_count": 19,
   "id": "630935eb",
   "metadata": {},
   "outputs": [],
   "source": [
    "# BTM"
   ]
  },
  {
   "cell_type": "code",
   "execution_count": 20,
   "id": "870f5363",
   "metadata": {},
   "outputs": [],
   "source": [
    "btm_tdm_topic_probabilities=pd.read_csv(\n",
    "   path_data+\"btm_tdm_topic_probabilities.csv\"\n",
    ",sep=\",\",dtype=str)\n",
    "\n",
    "btm_words=pd.read_csv(path_data+\"btm_tdm_top_words.csv\",\n",
    "                      sep=\",\",dtype=str)\n",
    "\n",
    "btm_tdm_topic_probabilities['treatment']=outcome\n",
    "btm_tdm_topic_probabilities=btm_tdm_topic_probabilities.drop(columns='doc')\n",
    "\n",
    "top_words_per_topic_btm = [words[0] for words in [btm_words[col].str.split(', ').tolist() for col in btm_words.columns]]"
   ]
  },
  {
   "cell_type": "code",
   "execution_count": 21,
   "id": "dcd4d63b",
   "metadata": {},
   "outputs": [
    {
     "data": {
      "image/png": "[encoded data removed]",
      "text/plain": [
       "<Figure size 1000x500 with 1 Axes>"
      ]
     },
     "metadata": {},
     "output_type": "display_data"
    }
   ],
   "source": [
    "# Initialize an empty list to hold the average compound scores\n",
    "average_scores = []\n",
    "\n",
    "# Convert DataFrame to numeric data type\n",
    "\n",
    "# Store coefficients and confidence intervals\n",
    "coefficients = []\n",
    "conf_intervals = []\n",
    "btm_tdm_topic_probabilities = btm_tdm_topic_probabilities.apply(pd.to_numeric, errors='coerce')\n",
    "btm_tdm_topic_probabilities.columns=['Topic 1','Topic 2','Topic 3','Topic 4','treatment'] \n",
    "\n",
    "# Run a linear regression for each topic dummy\n",
    "for column in btm_tdm_topic_probabilities.columns:\n",
    "    if column != 'treatment':\n",
    "        X = btm_tdm_topic_probabilities[column]\n",
    "        y = btm_tdm_topic_probabilities['treatment']\n",
    "        X = sm.add_constant(X)  # adding a constant\n",
    "\n",
    "        model = sm.OLS(y, X).fit()\n",
    "        coefficients.append(model.params[1])\n",
    "        conf_intervals.append(model.conf_int(alpha=0.1).iloc[1].values)\n",
    "\n",
    "# Plot coefficients with confidence intervals\n",
    "plt.figure(figsize=(10, 5))\n",
    "\n",
    "topic_order=np.arange(len(coefficients),0,-1)-1\n",
    "\n",
    "plt.errorbar(coefficients, topic_order, \n",
    "             xerr=[abs((top-bot)/2) for top, bot in conf_intervals],\n",
    "             fmt='o', markersize=marker_size, elinewidth=line_width)\n",
    "plt.yticks(topic_order, \n",
    "           btm_tdm_topic_probabilities.columns[btm_tdm_topic_probabilities.columns != 'treatment'], fontsize=font_size)\n",
    "\n",
    "# Get the current limits of the x-axis\n",
    "xmin, xmax = plt.xlim()\n",
    "\n",
    "# Define x-axis labels and their positions\n",
    "labels = ['Reflection', u'\\u2190 Correlation \\u2192', 'Intuition']  # Unicode characters for left and right arrows\n",
    "positions = [xmin, (xmin + xmax) / 2, xmax]  # Place 'Correlation' at the middle of the x-axis\n",
    "\n",
    "# Add new x-axis labels\n",
    "for pos, label in zip(positions, labels):\n",
    "    plt.text(pos, -0.15, label, fontsize=font_size, ha='center', va='top', transform=plt.gca().get_xaxis_transform())\n",
    "\n",
    "# Increase font size for original x-axis labels\n",
    "plt.xticks(fontsize=font_size)\n",
    "plt.axvline(0, color='black',linewidth=1)\n",
    "\n",
    "plt.savefig(path_graphs+'btm_topic_tdm.png',bbox_inches='tight')\n",
    "plt.show()"
   ]
  },
  {
   "cell_type": "code",
   "execution_count": 22,
   "id": "dc0f467b",
   "metadata": {},
   "outputs": [
    {
     "data": {
      "text/plain": [
       "[['contribute', 'cent', 'good', 'group', 'money'],\n",
       " ['good', 'group', 'believe', 'like', 'decision'],\n",
       " ['people', 'cent', 'contribute', 'group', 'want'],\n",
       " ['contribute', 'people', 'feel', 'want', 'believe']]"
      ]
     },
     "execution_count": 22,
     "metadata": {},
     "output_type": "execute_result"
    }
   ],
   "source": [
    "top_words_per_topic_btm"
   ]
  },
  {
   "cell_type": "code",
   "execution_count": 23,
   "id": "de6e0e42",
   "metadata": {},
   "outputs": [],
   "source": [
    "# Flatten the list of lists into a single list\n",
    "all_words_per_topic_btm = [word for sublist in top_words_per_topic_btm for word in sublist]\n",
    "\n",
    "# Remove duplicates by converting the list to a set\n",
    "unique_words = set(all_words_per_topic_btm)\n",
    "\n",
    "# If you need a list, convert the set back to a list\n",
    "all_words_per_topic_btm = list(unique_words)"
   ]
  },
  {
   "cell_type": "code",
   "execution_count": 24,
   "id": "b5385904",
   "metadata": {},
   "outputs": [
    {
     "data": {
      "text/plain": [
       "0.1838330423080178"
      ]
     },
     "execution_count": 24,
     "metadata": {},
     "output_type": "execute_result"
    }
   ],
   "source": [
    "# Overall quality score BTM\n",
    "cosine_matrix_btm=CTApy.create_cosine_matrix(pretrained_model, all_words_per_topic_btm)\n",
    "CTApy.calculate_quality_all(top_words_per_topic_btm, cosine_matrix_btm)"
   ]
  },
  {
   "cell_type": "code",
   "execution_count": 25,
   "id": "730f93c9",
   "metadata": {},
   "outputs": [],
   "source": [
    "# STM"
   ]
  },
  {
   "cell_type": "code",
   "execution_count": 31,
   "id": "7c9fb9be",
   "metadata": {},
   "outputs": [],
   "source": [
    "stm_tdm_topic_probabilities=pd.read_csv(\n",
    "    path_data+\"stm_tdm_topic_probabilities.csv\"\n",
    ",sep=\",\",dtype=str)\n",
    "\n",
    "stm_words=pd.read_csv(path_data+\"stm_tdm_top_words.csv\",\n",
    "                      sep=\",\",dtype=str)"
   ]
  },
  {
   "cell_type": "code",
   "execution_count": 32,
   "id": "5e1a78db",
   "metadata": {},
   "outputs": [
    {
     "data": {
      "image/png": "[encoded data removed]",
      "text/plain": [
       "<Figure size 1000x500 with 1 Axes>"
      ]
     },
     "metadata": {},
     "output_type": "display_data"
    },
    {
     "name": "stdout",
     "output_type": "stream",
     "text": [
      "[['want', 'choose', 'feel', 'give', 'fair'], ['group', 'think', 'benefit', 'way', 'decide'], ['people', 'good', 'like', 'hope', 'know'], ['contribute', 'money', 'cent', 'believe', 'figure']]\n"
     ]
    }
   ],
   "source": [
    "# Convert DataFrame to numeric data type\n",
    "stm_tdm_topic_probabilities = stm_tdm_topic_probabilities.apply(pd.to_numeric, errors='coerce')\n",
    "\n",
    "# Store coefficients and confidence intervals\n",
    "coefficients = []\n",
    "conf_intervals = []\n",
    "stm_tdm_topic_probabilities.columns=['Topic 1','Topic 2','Topic 3','Topic 4','treatment'] \n",
    "\n",
    "# Run a linear regression for each topic dummy\n",
    "for column in stm_tdm_topic_probabilities.columns:\n",
    "    if column != 'treatment':\n",
    "        X = stm_tdm_topic_probabilities['treatment']\n",
    "        y = stm_tdm_topic_probabilities[column]\n",
    "        X = sm.add_constant(X)  # adding a constant\n",
    "\n",
    "        model = sm.OLS(y, X).fit()\n",
    "        coefficients.append(model.params[1])\n",
    "        conf_intervals.append(model.conf_int(alpha=0.1).iloc[1].values)\n",
    "\n",
    "# Plot coefficients with confidence intervals\n",
    "plt.figure(figsize=(10, 5))\n",
    "\n",
    "topic_order=np.arange(len(coefficients),0,-1)-1\n",
    "\n",
    "plt.errorbar(coefficients, topic_order, \n",
    "             xerr=[abs((top-bot)/2) for top, bot in conf_intervals],\n",
    "             fmt='o', markersize=marker_size, elinewidth=line_width)\n",
    "plt.yticks(topic_order, \n",
    "           stm_tdm_topic_probabilities.columns[stm_tdm_topic_probabilities.columns != 'treatment'],fontsize=font_size)\n",
    "\n",
    "# Get the current limits of the x-axis\n",
    "xmin, xmax = plt.xlim()\n",
    "\n",
    "# Define x-axis labels and their positions\n",
    "labels = ['Reflection', u'\\u2190 Correlation \\u2192', 'Intuition']  # Unicode characters for left and right arrows\n",
    "positions = [xmin, (xmin + xmax) / 2, xmax]  # Place 'Correlation' at the middle of the x-axis\n",
    "\n",
    "# Add new x-axis labels\n",
    "for pos, label in zip(positions, labels):\n",
    "    plt.text(pos, -0.15, label, fontsize=font_size, ha='center', va='top', transform=plt.gca().get_xaxis_transform())\n",
    "\n",
    "# Increase font size for original x-axis labels\n",
    "plt.xticks(fontsize=font_size)\n",
    "\n",
    "plt.axvline(0, color='black',linewidth=1)\n",
    "\n",
    "plt.savefig(path_graphs+'stm_topic_tdm.png',bbox_inches='tight')\n",
    "plt.show()\n",
    "\n",
    "top_words_per_topic_stm = [words[0] for words in [stm_words[col].str.split(', ').tolist() for col in stm_words.columns]]\n",
    "print(top_words_per_topic_stm)\n"
   ]
  },
  {
   "cell_type": "code",
   "execution_count": 33,
   "id": "fb362437",
   "metadata": {},
   "outputs": [],
   "source": [
    "# Flatten the list of lists into a single list\n",
    "all_words_per_topic_stm = [word for sublist in top_words_per_topic_stm for word in sublist]\n",
    "\n",
    "# Remove duplicates by converting the list to a set\n",
    "unique_words = set(all_words_per_topic_stm)\n",
    "\n",
    "# If you need a list, convert the set back to a list\n",
    "all_words_per_topic_stm = list(unique_words)"
   ]
  },
  {
   "cell_type": "code",
   "execution_count": 34,
   "id": "546ebeb2",
   "metadata": {},
   "outputs": [
    {
     "data": {
      "text/plain": [
       "0.2181464019607129"
      ]
     },
     "execution_count": 34,
     "metadata": {},
     "output_type": "execute_result"
    }
   ],
   "source": [
    "# Overall quality STM\n",
    "cosine_matrix_stm=CTApy.create_cosine_matrix(pretrained_model, all_words_per_topic_stm)\n",
    "CTApy.calculate_quality_all(top_words_per_topic_stm, cosine_matrix_stm)"
   ]
  },
  {
   "cell_type": "code",
   "execution_count": null,
   "id": "5ab57882",
   "metadata": {},
   "outputs": [],
   "source": []
  },
  {
   "cell_type": "code",
   "execution_count": 35,
   "id": "88861cf3",
   "metadata": {},
   "outputs": [],
   "source": [
    "# LDA\n"
   ]
  },
  {
   "cell_type": "code",
   "execution_count": 36,
   "id": "08c12acb",
   "metadata": {},
   "outputs": [],
   "source": [
    "import gensim\n",
    "from gensim import corpora\n",
    "from gensim.models import LdaModel\n",
    "import string\n",
    "\n",
    "# Assuming 'text' column contains the text data\n",
    "documents = text_lemma.tolist()\n",
    "\n",
    "texts = []\n",
    "for document in documents:\n",
    "    # Remove punctuation\n",
    "    text = \"\".join([char for char in document if char not in string.punctuation])\n",
    "    # Tokenize and lowercase\n",
    "    words = text.lower().split()\n",
    "    texts.append(words)\n",
    "\n",
    "# Creating the term dictionary of our corpus, where every unique term is assigned an index\n",
    "dictionary = corpora.Dictionary(texts)\n",
    "\n",
    "# Converting list of documents (corpus) into Document Term Matrix using dictionary prepared above\n",
    "doc_term_matrix = [dictionary.doc2bow(text) for text in texts]\n",
    "\n"
   ]
  },
  {
   "cell_type": "code",
   "execution_count": 37,
   "id": "c44330e3",
   "metadata": {},
   "outputs": [],
   "source": [
    "# Creating the object for LDA model using gensim library\n",
    "random.seed(42)\n",
    "Lda = gensim.models.ldamodel.LdaModel\n",
    "\n",
    "# Running and Training LDA model on the document term matrix\n",
    "ldamodel = Lda(doc_term_matrix, num_topics=4, id2word = dictionary, passes=50, random_state=42)\n",
    "\n"
   ]
  },
  {
   "cell_type": "code",
   "execution_count": 38,
   "id": "7140115c",
   "metadata": {},
   "outputs": [
    {
     "name": "stdout",
     "output_type": "stream",
     "text": [
      "[['cent', 'contribute', '40', 'figure', 'good'], ['think', 'people', 'contribute', 'good', 'group'], ['want', 'money', 'group', 'contribute', 'good'], ['believe', 'feel', 'like', 'money', 'right']]\n"
     ]
    }
   ],
   "source": [
    "# Print the topics\n",
    "topics = ldamodel.print_topics(num_topics=4, num_words=5)\n",
    "\n",
    "# Create a list of lists for the top words in each topic\n",
    "lda_top_words_per_topic = []\n",
    "for topic in topics:\n",
    "    words = topic[1].split(\"+\")\n",
    "    words = [word.split(\"*\")[1].strip().strip('\"') for word in words]\n",
    "    lda_top_words_per_topic.append(words)\n",
    "\n",
    "print(lda_top_words_per_topic)"
   ]
  },
  {
   "cell_type": "code",
   "execution_count": 39,
   "id": "60dea677",
   "metadata": {},
   "outputs": [],
   "source": [
    "# Flatten the list of lists into a single list\n",
    "lda_top_words_per_topic_flat = [word for sublist in lda_top_words_per_topic for word in sublist]\n",
    "\n",
    "# Remove duplicates by converting the list to a set\n",
    "unique_words = set(lda_top_words_per_topic_flat)\n",
    "\n",
    "# If you need a list, convert the set back to a list\n",
    "lda_top_words_per_topic_flat = list(unique_words)"
   ]
  },
  {
   "cell_type": "code",
   "execution_count": 40,
   "id": "4bb97e85",
   "metadata": {},
   "outputs": [
    {
     "data": {
      "text/plain": [
       "0.1708586120124319"
      ]
     },
     "execution_count": 40,
     "metadata": {},
     "output_type": "execute_result"
    }
   ],
   "source": [
    "# Overall quality LDA\n",
    "cosine_matrix=CTApy.create_cosine_matrix(pretrained_model, lda_top_words_per_topic_flat)\n",
    "CTApy.calculate_quality_all(lda_top_words_per_topic, cosine_matrix)"
   ]
  },
  {
   "cell_type": "code",
   "execution_count": 41,
   "id": "39325c83",
   "metadata": {},
   "outputs": [],
   "source": [
    "# Get the topic probabilities for each document\n",
    "doc_topics = [ldamodel.get_document_topics(doc) for doc in doc_term_matrix]\n",
    "\n",
    "# Initialize a dataframe\n",
    "topics_lda = pd.DataFrame()\n",
    "\n",
    "# For each topic, create a column in the dataframe\n",
    "for i in range(ldamodel.num_topics):\n",
    "    topics_lda['topic_' + str(i)] = pd.to_numeric([doc[i][1] if i < len(doc) else 0 for doc in doc_topics])\n",
    "topics_lda['treatment']=pd.to_numeric(outcome).reset_index(drop=True)"
   ]
  },
  {
   "cell_type": "code",
   "execution_count": 42,
   "id": "e4f09de7",
   "metadata": {},
   "outputs": [
    {
     "data": {
      "image/png": "[encoded data removed]",
      "text/plain": [
       "<Figure size 1000x500 with 1 Axes>"
      ]
     },
     "metadata": {},
     "output_type": "display_data"
    }
   ],
   "source": [
    "# Store coefficients and confidence intervals\n",
    "coefficients = []\n",
    "conf_intervals = []\n",
    "topics_lda.columns=['Topic 1','Topic 2','Topic 3','Topic 4','treatment'] \n",
    "\n",
    "# Run a linear regression for each topic dummy\n",
    "for column in topics_lda.columns:\n",
    "    if column != 'treatment':\n",
    "        X = topics_lda['treatment']\n",
    "        y = topics_lda[column]\n",
    "        X = sm.add_constant(X)  # adding a constant\n",
    "\n",
    "        model = sm.OLS(y, X).fit()\n",
    "        coefficients.append(model.params[1])\n",
    "        conf_intervals.append(model.conf_int(alpha=0.1).iloc[1].values)\n",
    "\n",
    "#Define your desired font size and marker size\n",
    "font_size = 18\n",
    "marker_size = 10\n",
    "line_width = 2\n",
    "# Plot coefficients with confidence intervals\n",
    "plt.figure(figsize=(10, 5))\n",
    "\n",
    "topic_order=np.arange(len(coefficients),0,-1)-1\n",
    "\n",
    "plt.errorbar(coefficients, topic_order, \n",
    "             xerr=[abs((top-bot)/2) for top, bot in conf_intervals],\n",
    "             fmt='o', markersize=marker_size, elinewidth=line_width)\n",
    "plt.yticks(topic_order, topics_lda.columns[topics_lda.columns != 'treatment'],fontsize=font_size)\n",
    "\n",
    "# Get the current limits of the x-axis\n",
    "xmin, xmax = plt.xlim()\n",
    "\n",
    "# Define x-axis labels and their positions\n",
    "labels = ['Reflection', u'\\u2190 Correlation \\u2192', 'Intuition']  # Unicode characters for left and right arrows\n",
    "positions = [xmin, (xmin + xmax) / 2, xmax]  # Place 'Correlation' at the middle of the x-axis\n",
    "\n",
    "# Add new x-axis labels\n",
    "for pos, label in zip(positions, labels):\n",
    "    plt.text(pos, -0.15, label, fontsize=font_size, ha='center', va='top', transform=plt.gca().get_xaxis_transform())\n",
    "\n",
    "# Increase font size for original x-axis labels\n",
    "plt.xticks(fontsize=font_size)\n",
    "\n",
    "plt.axvline(0, color='black',linewidth=1)\n",
    "\n",
    "plt.savefig(path_graphs+'lda_topic_tdm.png',bbox_inches='tight')\n",
    "plt.show()\n",
    "\n",
    "\n"
   ]
  },
  {
   "cell_type": "code",
   "execution_count": null,
   "id": "3631f7eb",
   "metadata": {},
   "outputs": [],
   "source": []
  },
  {
   "cell_type": "code",
   "execution_count": null,
   "id": "b1d06382",
   "metadata": {},
   "outputs": [],
   "source": []
  }
 ],
 "metadata": {
  "kernelspec": {
   "display_name": "Python 3 (ipykernel)",
   "language": "python",
   "name": "python3"
  },
  "language_info": {
   "codemirror_mode": {
    "name": "ipython",
    "version": 3
   },
   "file_extension": ".py",
   "mimetype": "text/x-python",
   "name": "python",
   "nbconvert_exporter": "python",
   "pygments_lexer": "ipython3",
   "version": "3.11.5"
  }
 },
 "nbformat": 4,
 "nbformat_minor": 5
}
