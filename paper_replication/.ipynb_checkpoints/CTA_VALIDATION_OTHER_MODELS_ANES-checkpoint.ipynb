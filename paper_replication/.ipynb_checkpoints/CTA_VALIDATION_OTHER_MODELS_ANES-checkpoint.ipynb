{
 "cells": [
  {
   "cell_type": "code",
   "execution_count": 1,
   "id": "94901ab2",
   "metadata": {},
   "outputs": [],
   "source": [
    "import CTApy\n",
    "import pandas as pd\n",
    "import numpy as np\n",
    "import random\n",
    "import os\n",
    "\n",
    "import statsmodels.api as sm\n",
    "import matplotlib.pyplot as plt\n",
    "import numpy as np\n",
    "from gensim.models import fasttext\n",
    "import torch\n",
    "from sentence_transformers import SentenceTransformer\n",
    "from bertopic import BERTopic\n",
    "from bertopic.representation import KeyBERTInspired\n",
    "from umap import UMAP\n"
   ]
  },
  {
   "cell_type": "code",
   "execution_count": 2,
   "id": "09eae9ef",
   "metadata": {},
   "outputs": [],
   "source": [
    "# Set a seed value\n",
    "seed_value = 42  # can be any number\n",
    "\n",
    "os.environ['PYTHONHASHSEED'] = str(seed_value)\n",
    "\n",
    "random.seed(seed_value)\n",
    "\n",
    "np.random.seed(seed_value)"
   ]
  },
  {
   "cell_type": "code",
   "execution_count": 3,
   "id": "29224cab",
   "metadata": {},
   "outputs": [],
   "source": [
    "# load data\n",
    "path_data=\"\"\n",
    "df = pd.read_csv(path_data+\"cta_data/anes_lemmatized.csv\",sep=\",\",dtype=str)\n",
    "\n",
    "\n",
    "path_graphs=\"\""
   ]
  },
  {
   "cell_type": "code",
   "execution_count": 4,
   "id": "3a92f5ac",
   "metadata": {},
   "outputs": [],
   "source": [
    "# Prepare data for the fasttext model\n",
    "data_words = df['text_lemma'].str.split().tolist()"
   ]
  },
  {
   "cell_type": "code",
   "execution_count": 5,
   "id": "3af5e030",
   "metadata": {},
   "outputs": [
    {
     "data": {
      "text/plain": [
       "(594, 3054)"
      ]
     },
     "execution_count": 5,
     "metadata": {},
     "output_type": "execute_result"
    }
   ],
   "source": [
    "# Load pre-trained model\n",
    "pretrained_model = fasttext.load_facebook_model(\"research_data/cc.en.300.bin\")\n",
    "\n",
    "# Update the model with new data\n",
    "pretrained_model.build_vocab(corpus_iterable=data_words, update=True)\n",
    "pretrained_model.train(corpus_iterable=data_words, total_examples=len(data_words), epochs=pretrained_model.epochs)"
   ]
  },
  {
   "cell_type": "code",
   "execution_count": null,
   "id": "d6698a6f",
   "metadata": {},
   "outputs": [],
   "source": []
  },
  {
   "cell_type": "code",
   "execution_count": 6,
   "id": "8c6422c0",
   "metadata": {},
   "outputs": [
    {
     "data": {
      "text/plain": [
       "<torch._C.Generator at 0x1f461cf1b70>"
      ]
     },
     "execution_count": 6,
     "metadata": {},
     "output_type": "execute_result"
    }
   ],
   "source": [
    "# The seed value\n",
    "seed_value = 42\n",
    "\n",
    "# Set the seed for Python's random module\n",
    "random.seed(seed_value)\n",
    "\n",
    "# Set the seed for NumPy's random number generator\n",
    "np.random.seed(seed_value)\n",
    "\n",
    "# Set the seed for PyTorch's random number generator\n",
    "# Uncomment the line below if you're using PyTorch\n",
    "torch.manual_seed(seed_value)\n",
    "\n",
    "\n"
   ]
  },
  {
   "cell_type": "code",
   "execution_count": 7,
   "id": "f8c9af91",
   "metadata": {},
   "outputs": [],
   "source": [
    "#BERTOPIC"
   ]
  },
  {
   "cell_type": "code",
   "execution_count": 8,
   "id": "7fe1dbcb",
   "metadata": {},
   "outputs": [],
   "source": [
    "sentence_model = SentenceTransformer(\"all-mpnet-base-v2\")"
   ]
  },
  {
   "cell_type": "code",
   "execution_count": 9,
   "id": "835e3635",
   "metadata": {},
   "outputs": [],
   "source": [
    "# Create a UMAP model with the seed value\n",
    "# umap_model = UMAP(random_state=seed_value)\n",
    "umap_model = UMAP(random_state=42)\n",
    "\n",
    "# Fine-tune your topic representations\n",
    "representation_model = KeyBERTInspired()\n",
    "\n",
    "topic_model = BERTopic(umap_model=umap_model,representation_model=representation_model,nr_topics=5,calculate_probabilities=True)\n"
   ]
  },
  {
   "cell_type": "code",
   "execution_count": 10,
   "id": "dd9aab59",
   "metadata": {},
   "outputs": [],
   "source": [
    "text_lemma=df['text_lemma']\n",
    "outcome=df['outcome']"
   ]
  },
  {
   "cell_type": "code",
   "execution_count": 11,
   "id": "32f4ca8e",
   "metadata": {},
   "outputs": [],
   "source": [
    "# Get the topics for each document\n",
    "topics,probabilities = topic_model.fit_transform(text_lemma)\n",
    "\n",
    "# Get unique topics\n",
    "unique_topics = np.unique(topics)"
   ]
  },
  {
   "cell_type": "code",
   "execution_count": 12,
   "id": "f73fc502",
   "metadata": {},
   "outputs": [
    {
     "data": {
      "image/png": "[encoded data removed]",
      "text/plain": [
       "<Figure size 1000x500 with 1 Axes>"
      ]
     },
     "metadata": {},
     "output_type": "display_data"
    }
   ],
   "source": [
    "df = pd.DataFrame({'topic':topics,'republican':outcome})\n",
    "# Convert \"topic\" into dummy variables and prefix the column names with \"topic_\"\n",
    "df_dummies = pd.get_dummies(df['topic'], prefix='topic')*1\n",
    "\n",
    "# Check if 'topic_-1' is in the DataFrame\n",
    "if 'topic_-1' in df_dummies.columns:\n",
    "    # Remove 'topic_-1' column\n",
    "    df_dummies = df_dummies.drop(columns='topic_-1')\n",
    "\n",
    "# Concatenate the outcome column with the new dummy columns\n",
    "df_final = pd.concat([df['republican'], df_dummies], axis=1)\n",
    "\n",
    "# Convert DataFrame to numeric data type\n",
    "df_final = df_final.apply(pd.to_numeric, errors='coerce')\n",
    "df_final.columns=['Topic 1','Topic 2','Topic 3','Topic 4','republican'] \n",
    "\n",
    "# Store coefficients and confidence intervals\n",
    "coefficients = []\n",
    "conf_intervals = []\n",
    "\n",
    "# Run a linear regression for each topic dummy\n",
    "for column in df_final.columns:\n",
    "    if column != 'republican':\n",
    "        X = df_final['republican']\n",
    "        y = df_final[column]\n",
    "        X = sm.add_constant(X)  # adding a constant\n",
    "\n",
    "        model = sm.OLS(y, X).fit()\n",
    "        coefficients.append(model.params[1])\n",
    "        conf_intervals.append(model.conf_int(alpha=0.1).iloc[1].values)\n",
    "\n",
    "# Define your desired font size and marker size\n",
    "font_size = 18\n",
    "marker_size = 10\n",
    "line_width = 2\n",
    "# Plot coefficients with confidence intervals\n",
    "plt.figure(figsize=(10, 5))\n",
    "\n",
    "topic_order=np.arange(len(coefficients),0,-1)-1\n",
    "\n",
    "plt.errorbar(coefficients, topic_order, \n",
    "             xerr=[abs((top-bot)/2) for top, bot in conf_intervals],\n",
    "             fmt='o', markersize=marker_size, elinewidth=line_width)\n",
    "plt.yticks(topic_order, df_final.columns[df_final.columns != 'republican'], fontsize=font_size)\n",
    "\n",
    "# Get the current limits of the x-axis\n",
    "xmin, xmax = plt.xlim()\n",
    "\n",
    "# Define x-axis labels and their positions\n",
    "labels = ['Democrat', u'\\u2190 Correlation \\u2192', 'Republican']  # Unicode characters for left and right arrows\n",
    "positions = [xmin, (xmin + xmax) / 2, xmax]  # Place 'Correlation' at the middle of the x-axis\n",
    "\n",
    "# Add new x-axis labels\n",
    "for pos, label in zip(positions, labels):\n",
    "    plt.text(pos, -0.15, label, fontsize=font_size, ha='center', va='top', transform=plt.gca().get_xaxis_transform())\n",
    "\n",
    "# Increase font size for original x-axis labels\n",
    "plt.xticks(fontsize=font_size)\n",
    "\n",
    "plt.axvline(0, color='black',linewidth=1)\n",
    "\n",
    "plt.savefig(path_graphs+'bertopic_topic_anes.png',bbox_inches='tight')\n",
    "plt.show()"
   ]
  },
  {
   "cell_type": "code",
   "execution_count": 13,
   "id": "775dd94c",
   "metadata": {},
   "outputs": [
    {
     "name": "stdout",
     "output_type": "stream",
     "text": [
      "[['economy', 'economic', 'business', 'wealth', 'finance'], ['war', 'iraq', 'fight', 'military', 'terrorism'], ['donotknow', 'answer', 'idea', 'clue', 'know'], ['healthcare', 'health', 'medicaid', 'welfare', 'care']]\n"
     ]
    }
   ],
   "source": [
    "# Get the topics\n",
    "topics = topic_model.get_topic_info()['Topic'].unique()\n",
    "\n",
    "# Initialize an empty list to hold the top words for each topic\n",
    "top_words_per_topic = []\n",
    "\n",
    "# Loop over the topics\n",
    "for topic in topics:\n",
    "    if topic != -1:  # We skip -1 as it represents the 'unclassified' topic\n",
    "        # Get the top 5 words for the topic\n",
    "        top_words = [word for word, prob in topic_model.get_topic(topic)[:5]]\n",
    "        # Add the top words to our list\n",
    "        top_words_per_topic.append(top_words)\n",
    "print(top_words_per_topic) "
   ]
  },
  {
   "cell_type": "code",
   "execution_count": 14,
   "id": "bb14a877",
   "metadata": {},
   "outputs": [
    {
     "data": {
      "text/plain": [
       "[['economy', 'economic', 'business', 'wealth', 'finance'],\n",
       " ['war', 'iraq', 'fight', 'military', 'terrorism'],\n",
       " ['donotknow', 'answer', 'idea', 'clue', 'know'],\n",
       " ['healthcare', 'health', 'medicaid', 'welfare', 'care']]"
      ]
     },
     "execution_count": 14,
     "metadata": {},
     "output_type": "execute_result"
    }
   ],
   "source": [
    "top_words_per_topic"
   ]
  },
  {
   "cell_type": "code",
   "execution_count": 15,
   "id": "451df493",
   "metadata": {},
   "outputs": [],
   "source": [
    "# Flatten the list of lists into a single list\n",
    "all_words_bertopic_top5 = [word for sublist in top_words_per_topic for word in sublist]\n",
    "\n",
    "# Remove duplicates by converting the list to a set\n",
    "unique_words = set(all_words_bertopic_top5)\n",
    "\n",
    "# If you need a list, convert the set back to a list\n",
    "all_words_bertopic_top5 = list(unique_words)\n",
    "\n"
   ]
  },
  {
   "cell_type": "code",
   "execution_count": 17,
   "id": "1343d798",
   "metadata": {},
   "outputs": [],
   "source": [
    "# cosine_matrix_bertopic=create_cosine_matrix(pretrained_model, all_words_bertopic_top5)\n",
    "cosine_matrix_bertopic=CTApy.create_cosine_matrix(pretrained_model, all_words_bertopic_top5)\n"
   ]
  },
  {
   "cell_type": "code",
   "execution_count": 18,
   "id": "6a9462da",
   "metadata": {},
   "outputs": [
    {
     "data": {
      "text/plain": [
       "0.3418024298058077"
      ]
     },
     "execution_count": 18,
     "metadata": {},
     "output_type": "execute_result"
    }
   ],
   "source": [
    "# Overall quality for BERTopic topics\n",
    "CTApy.calculate_quality_all(top_words_per_topic, cosine_matrix_bertopic)"
   ]
  },
  {
   "cell_type": "code",
   "execution_count": null,
   "id": "3f30c541",
   "metadata": {},
   "outputs": [],
   "source": []
  },
  {
   "cell_type": "code",
   "execution_count": 42,
   "id": "630935eb",
   "metadata": {},
   "outputs": [],
   "source": [
    "# BTM"
   ]
  },
  {
   "cell_type": "code",
   "execution_count": 19,
   "id": "870f5363",
   "metadata": {},
   "outputs": [],
   "source": [
    "btm_anes_topic_probabilities=pd.read_csv(\n",
    "    path_data+\"btm_anes_topic_probabilities.csv\"\n",
    ",sep=\",\",dtype=str)\n",
    "\n",
    "btm_words=pd.read_csv(path_data+\"btm_anes_top_words.csv\",\n",
    "                      sep=\",\",dtype=str)\n",
    "\n",
    "btm_anes_topic_probabilities['republican']=outcome\n",
    "btm_anes_topic_probabilities=btm_anes_topic_probabilities.drop(columns='doc')\n",
    "\n",
    "top_words_per_topic_btm = [words[0] for words in [btm_words[col].str.split(', ').tolist() for col in btm_words.columns]]"
   ]
  },
  {
   "cell_type": "code",
   "execution_count": 20,
   "id": "dcd4d63b",
   "metadata": {},
   "outputs": [
    {
     "data": {
      "image/png": "[encoded data removed]",
      "text/plain": [
       "<Figure size 1000x500 with 1 Axes>"
      ]
     },
     "metadata": {},
     "output_type": "display_data"
    }
   ],
   "source": [
    "# Initialize an empty list to hold the average compound scores\n",
    "average_scores = []\n",
    "\n",
    "# Convert DataFrame to numeric data type\n",
    "\n",
    "# Store coefficients and confidence intervals\n",
    "coefficients = []\n",
    "conf_intervals = []\n",
    "btm_anes_topic_probabilities = btm_anes_topic_probabilities.apply(pd.to_numeric, errors='coerce')\n",
    "btm_anes_topic_probabilities.columns=['Topic 1','Topic 2','Topic 3','Topic 4','republican'] \n",
    "\n",
    "# Run a linear regression for each topic dummy\n",
    "for column in btm_anes_topic_probabilities.columns:\n",
    "    if column != 'republican':\n",
    "        X = btm_anes_topic_probabilities[column]\n",
    "        y = btm_anes_topic_probabilities['republican']\n",
    "        X = sm.add_constant(X)  # adding a constant\n",
    "\n",
    "        model = sm.OLS(y, X).fit()\n",
    "        coefficients.append(model.params[1])\n",
    "        conf_intervals.append(model.conf_int(alpha=0.1).iloc[1].values)\n",
    "\n",
    "# Plot coefficients with confidence intervals\n",
    "plt.figure(figsize=(10, 5))\n",
    "\n",
    "topic_order=np.arange(len(coefficients),0,-1)-1\n",
    "\n",
    "plt.errorbar(coefficients, topic_order, \n",
    "             xerr=[abs((top-bot)/2) for top, bot in conf_intervals],\n",
    "             fmt='o', markersize=marker_size, elinewidth=line_width)\n",
    "plt.yticks(topic_order, \n",
    "           btm_anes_topic_probabilities.columns[btm_anes_topic_probabilities.columns != 'republican'], fontsize=font_size)\n",
    "\n",
    "# Get the current limits of the x-axis\n",
    "xmin, xmax = plt.xlim()\n",
    "\n",
    "# Define x-axis labels and their positions\n",
    "labels = ['Democrat', u'\\u2190 Correlation \\u2192', 'Republican']  # Unicode characters for left and right arrows\n",
    "positions = [xmin, (xmin + xmax) / 2, xmax]  # Place 'Correlation' at the middle of the x-axis\n",
    "\n",
    "# Add new x-axis labels\n",
    "for pos, label in zip(positions, labels):\n",
    "    plt.text(pos, -0.15, label, fontsize=font_size, ha='center', va='top', transform=plt.gca().get_xaxis_transform())\n",
    "\n",
    "# Increase font size for original x-axis labels\n",
    "plt.xticks(fontsize=font_size)\n",
    "plt.axvline(0, color='black',linewidth=1)\n",
    "\n",
    "plt.savefig(path_graphs+'btm_topic_anes.png',bbox_inches='tight')\n",
    "plt.show()"
   ]
  },
  {
   "cell_type": "code",
   "execution_count": null,
   "id": "21ce2ac1",
   "metadata": {},
   "outputs": [],
   "source": []
  },
  {
   "cell_type": "code",
   "execution_count": 21,
   "id": "dc0f467b",
   "metadata": {},
   "outputs": [
    {
     "data": {
      "text/plain": [
       "[['world', 'foreign', 'country', 'economy', 'think'],\n",
       " ['economy', 'money', 'job', 'problem', 'country'],\n",
       " ['people', 'think', 'economy', 'get', 'go'],\n",
       " ['war', 'need', 'iraq', 'people', 'job']]"
      ]
     },
     "execution_count": 21,
     "metadata": {},
     "output_type": "execute_result"
    }
   ],
   "source": [
    "top_words_per_topic_btm"
   ]
  },
  {
   "cell_type": "code",
   "execution_count": 22,
   "id": "de6e0e42",
   "metadata": {},
   "outputs": [],
   "source": [
    "# Flatten the list of lists into a single list\n",
    "all_words_per_topic_btm = [word for sublist in top_words_per_topic_btm for word in sublist]\n",
    "\n",
    "# Remove duplicates by converting the list to a set\n",
    "unique_words = set(all_words_per_topic_btm)\n",
    "\n",
    "# If you need a list, convert the set back to a list\n",
    "all_words_per_topic_btm = list(unique_words)"
   ]
  },
  {
   "cell_type": "code",
   "execution_count": 24,
   "id": "b5385904",
   "metadata": {},
   "outputs": [
    {
     "data": {
      "text/plain": [
       "0.18755671582942843"
      ]
     },
     "execution_count": 24,
     "metadata": {},
     "output_type": "execute_result"
    }
   ],
   "source": [
    "# Overall quality score for BTM topics\n",
    "cosine_matrix_btm=CTApy.create_cosine_matrix(pretrained_model, all_words_per_topic_btm)\n",
    "CTApy.calculate_quality_all(top_words_per_topic_btm, cosine_matrix_btm)"
   ]
  },
  {
   "cell_type": "code",
   "execution_count": 25,
   "id": "730f93c9",
   "metadata": {},
   "outputs": [],
   "source": [
    "# STM"
   ]
  },
  {
   "cell_type": "code",
   "execution_count": 32,
   "id": "863ca22a",
   "metadata": {},
   "outputs": [
    {
     "data": {
      "text/html": [
       "<div>\n",
       "<style scoped>\n",
       "    .dataframe tbody tr th:only-of-type {\n",
       "        vertical-align: middle;\n",
       "    }\n",
       "\n",
       "    .dataframe tbody tr th {\n",
       "        vertical-align: top;\n",
       "    }\n",
       "\n",
       "    .dataframe thead th {\n",
       "        text-align: right;\n",
       "    }\n",
       "</style>\n",
       "<table border=\"1\" class=\"dataframe\">\n",
       "  <thead>\n",
       "    <tr style=\"text-align: right;\">\n",
       "      <th></th>\n",
       "      <th>topic_1</th>\n",
       "      <th>topic_2</th>\n",
       "      <th>topic_3</th>\n",
       "      <th>topic_4</th>\n",
       "    </tr>\n",
       "  </thead>\n",
       "  <tbody>\n",
       "    <tr>\n",
       "      <th>0</th>\n",
       "      <td>0.025159</td>\n",
       "      <td>0.877393</td>\n",
       "      <td>0.031506</td>\n",
       "      <td>0.065942</td>\n",
       "    </tr>\n",
       "    <tr>\n",
       "      <th>1</th>\n",
       "      <td>0.071296</td>\n",
       "      <td>0.088546</td>\n",
       "      <td>0.055877</td>\n",
       "      <td>0.784281</td>\n",
       "    </tr>\n",
       "    <tr>\n",
       "      <th>2</th>\n",
       "      <td>0.025159</td>\n",
       "      <td>0.877393</td>\n",
       "      <td>0.031506</td>\n",
       "      <td>0.065942</td>\n",
       "    </tr>\n",
       "    <tr>\n",
       "      <th>3</th>\n",
       "      <td>0.843884</td>\n",
       "      <td>0.053337</td>\n",
       "      <td>0.038748</td>\n",
       "      <td>0.064030</td>\n",
       "    </tr>\n",
       "    <tr>\n",
       "      <th>4</th>\n",
       "      <td>0.098668</td>\n",
       "      <td>0.151828</td>\n",
       "      <td>0.095154</td>\n",
       "      <td>0.654350</td>\n",
       "    </tr>\n",
       "    <tr>\n",
       "      <th>...</th>\n",
       "      <td>...</td>\n",
       "      <td>...</td>\n",
       "      <td>...</td>\n",
       "      <td>...</td>\n",
       "    </tr>\n",
       "    <tr>\n",
       "      <th>1261</th>\n",
       "      <td>0.024897</td>\n",
       "      <td>0.877376</td>\n",
       "      <td>0.031843</td>\n",
       "      <td>0.065885</td>\n",
       "    </tr>\n",
       "    <tr>\n",
       "      <th>1262</th>\n",
       "      <td>0.024897</td>\n",
       "      <td>0.877376</td>\n",
       "      <td>0.031843</td>\n",
       "      <td>0.065885</td>\n",
       "    </tr>\n",
       "    <tr>\n",
       "      <th>1263</th>\n",
       "      <td>0.024897</td>\n",
       "      <td>0.877376</td>\n",
       "      <td>0.031843</td>\n",
       "      <td>0.065885</td>\n",
       "    </tr>\n",
       "    <tr>\n",
       "      <th>1264</th>\n",
       "      <td>0.007576</td>\n",
       "      <td>0.947984</td>\n",
       "      <td>0.012498</td>\n",
       "      <td>0.031942</td>\n",
       "    </tr>\n",
       "    <tr>\n",
       "      <th>1265</th>\n",
       "      <td>0.507285</td>\n",
       "      <td>0.106471</td>\n",
       "      <td>0.223470</td>\n",
       "      <td>0.162773</td>\n",
       "    </tr>\n",
       "  </tbody>\n",
       "</table>\n",
       "<p>1266 rows × 4 columns</p>\n",
       "</div>"
      ],
      "text/plain": [
       "       topic_1   topic_2   topic_3   topic_4\n",
       "0     0.025159  0.877393  0.031506  0.065942\n",
       "1     0.071296  0.088546  0.055877  0.784281\n",
       "2     0.025159  0.877393  0.031506  0.065942\n",
       "3     0.843884  0.053337  0.038748  0.064030\n",
       "4     0.098668  0.151828  0.095154  0.654350\n",
       "...        ...       ...       ...       ...\n",
       "1261  0.024897  0.877376  0.031843  0.065885\n",
       "1262  0.024897  0.877376  0.031843  0.065885\n",
       "1263  0.024897  0.877376  0.031843  0.065885\n",
       "1264  0.007576  0.947984  0.012498  0.031942\n",
       "1265  0.507285  0.106471  0.223470  0.162773\n",
       "\n",
       "[1266 rows x 4 columns]"
      ]
     },
     "execution_count": 32,
     "metadata": {},
     "output_type": "execute_result"
    }
   ],
   "source": [
    "stm_anes_topic_probabilities"
   ]
  },
  {
   "cell_type": "code",
   "execution_count": 45,
   "id": "7c9fb9be",
   "metadata": {},
   "outputs": [],
   "source": [
    "stm_anes_topic_probabilities=pd.read_csv(\n",
    "   path_data+\"stm_anes_topic_probabilities.csv\"\n",
    ",sep=\",\",dtype=str)\n",
    "\n",
    "stm_words=pd.read_csv(path_data+\"stm_anes_top_words.csv\",\n",
    "                      sep=\",\",dtype=str)"
   ]
  },
  {
   "cell_type": "code",
   "execution_count": 46,
   "id": "5bdd12f2",
   "metadata": {},
   "outputs": [
    {
     "data": {
      "text/html": [
       "<div>\n",
       "<style scoped>\n",
       "    .dataframe tbody tr th:only-of-type {\n",
       "        vertical-align: middle;\n",
       "    }\n",
       "\n",
       "    .dataframe tbody tr th {\n",
       "        vertical-align: top;\n",
       "    }\n",
       "\n",
       "    .dataframe thead th {\n",
       "        text-align: right;\n",
       "    }\n",
       "</style>\n",
       "<table border=\"1\" class=\"dataframe\">\n",
       "  <thead>\n",
       "    <tr style=\"text-align: right;\">\n",
       "      <th></th>\n",
       "      <th>topic_1</th>\n",
       "      <th>topic_2</th>\n",
       "      <th>topic_3</th>\n",
       "      <th>topic_4</th>\n",
       "    </tr>\n",
       "  </thead>\n",
       "  <tbody>\n",
       "    <tr>\n",
       "      <th>0</th>\n",
       "      <td>donotknow, problem, economy, party, right</td>\n",
       "      <td>economy, war, iraq, job, world</td>\n",
       "      <td>foreign, terrorism, affair, economy, policy</td>\n",
       "      <td>people, country, economic, deficit, money</td>\n",
       "    </tr>\n",
       "  </tbody>\n",
       "</table>\n",
       "</div>"
      ],
      "text/plain": [
       "                                     topic_1                         topic_2  \\\n",
       "0  donotknow, problem, economy, party, right  economy, war, iraq, job, world   \n",
       "\n",
       "                                       topic_3  \\\n",
       "0  foreign, terrorism, affair, economy, policy   \n",
       "\n",
       "                                     topic_4  \n",
       "0  people, country, economic, deficit, money  "
      ]
     },
     "execution_count": 46,
     "metadata": {},
     "output_type": "execute_result"
    }
   ],
   "source": [
    "stm_words"
   ]
  },
  {
   "cell_type": "code",
   "execution_count": 48,
   "id": "5e1a78db",
   "metadata": {},
   "outputs": [
    {
     "data": {
      "image/png": "[encoded data removed]",
      "text/plain": [
       "<Figure size 1000x500 with 1 Axes>"
      ]
     },
     "metadata": {},
     "output_type": "display_data"
    },
    {
     "name": "stdout",
     "output_type": "stream",
     "text": [
      "[['donotknow', 'problem', 'economy', 'party', 'right'], ['economy', 'war', 'iraq', 'job', 'world'], ['foreign', 'terrorism', 'affair', 'economy', 'policy'], ['people', 'country', 'economic', 'deficit', 'money']]\n"
     ]
    }
   ],
   "source": [
    "# Convert DataFrame to numeric data type\n",
    "stm_anes_topic_probabilities = stm_anes_topic_probabilities.apply(pd.to_numeric, errors='coerce')\n",
    "\n",
    "# Store coefficients and confidence intervals\n",
    "coefficients = []\n",
    "conf_intervals = []\n",
    "stm_anes_topic_probabilities.columns=['Topic 1','Topic 2','Topic 3','Topic 4','republican'] \n",
    "\n",
    "# Run a linear regression for each topic dummy\n",
    "for column in stm_anes_topic_probabilities.columns:\n",
    "    if column != 'republican':\n",
    "        X = stm_anes_topic_probabilities['republican']\n",
    "        y = stm_anes_topic_probabilities[column]\n",
    "        X = sm.add_constant(X)  # adding a constant\n",
    "\n",
    "        model = sm.OLS(y, X).fit()\n",
    "        coefficients.append(model.params[1])\n",
    "        conf_intervals.append(model.conf_int(alpha=0.1).iloc[1].values)\n",
    "\n",
    "# Plot coefficients with confidence intervals\n",
    "plt.figure(figsize=(10, 5))\n",
    "\n",
    "topic_order=np.arange(len(coefficients),0,-1)-1\n",
    "\n",
    "plt.errorbar(coefficients, topic_order, \n",
    "             xerr=[abs((top-bot)/2) for top, bot in conf_intervals],\n",
    "             fmt='o', markersize=marker_size, elinewidth=line_width)\n",
    "plt.yticks(topic_order, \n",
    "           stm_anes_topic_probabilities.columns[stm_anes_topic_probabilities.columns != 'republican'],fontsize=font_size)\n",
    "\n",
    "# Get the current limits of the x-axis\n",
    "xmin, xmax = plt.xlim()\n",
    "\n",
    "# Define x-axis labels and their positions\n",
    "labels = ['Democrat', u'\\u2190 Correlation \\u2192', 'Republican']  # Unicode characters for left and right arrows\n",
    "positions = [xmin, (xmin + xmax) / 2, xmax]  # Place 'Correlation' at the middle of the x-axis\n",
    "\n",
    "# Add new x-axis labels\n",
    "for pos, label in zip(positions, labels):\n",
    "    plt.text(pos, -0.15, label, fontsize=font_size, ha='center', va='top', transform=plt.gca().get_xaxis_transform())\n",
    "\n",
    "# Increase font size for original x-axis labels\n",
    "plt.xticks(fontsize=font_size)\n",
    "plt.axvline(0, color='black',linewidth=1)\n",
    "\n",
    "plt.savefig(path_graphs+'stm_topic_anes.png',bbox_inches='tight')\n",
    "plt.show()\n",
    "\n",
    "top_words_per_topic_stm = [words[0] for words in [stm_words[col].str.split(', ').tolist() for col in stm_words.columns]]\n",
    "print(top_words_per_topic_stm)\n"
   ]
  },
  {
   "cell_type": "code",
   "execution_count": null,
   "id": "1a74ccea",
   "metadata": {},
   "outputs": [],
   "source": []
  },
  {
   "cell_type": "code",
   "execution_count": 49,
   "id": "fb362437",
   "metadata": {},
   "outputs": [],
   "source": [
    "# Flatten the list of lists into a single list\n",
    "all_words_per_topic_stm = [word for sublist in top_words_per_topic_stm for word in sublist]\n",
    "\n",
    "# Remove duplicates by converting the list to a set\n",
    "unique_words = set(all_words_per_topic_stm)\n",
    "\n",
    "# If you need a list, convert the set back to a list\n",
    "all_words_per_topic_stm = list(unique_words)"
   ]
  },
  {
   "cell_type": "code",
   "execution_count": 50,
   "id": "546ebeb2",
   "metadata": {},
   "outputs": [
    {
     "data": {
      "text/plain": [
       "0.16661482080392423"
      ]
     },
     "execution_count": 50,
     "metadata": {},
     "output_type": "execute_result"
    }
   ],
   "source": [
    "#Overall quality STM topics\n",
    "cosine_matrix_stm=CTApy.create_cosine_matrix(pretrained_model, all_words_per_topic_stm)\n",
    "CTApy.calculate_quality_all(top_words_per_topic_stm, cosine_matrix_stm)"
   ]
  },
  {
   "cell_type": "code",
   "execution_count": null,
   "id": "5ab57882",
   "metadata": {},
   "outputs": [],
   "source": []
  },
  {
   "cell_type": "code",
   "execution_count": 51,
   "id": "88861cf3",
   "metadata": {},
   "outputs": [],
   "source": [
    "# LDA\n"
   ]
  },
  {
   "cell_type": "code",
   "execution_count": 52,
   "id": "08c12acb",
   "metadata": {},
   "outputs": [],
   "source": [
    "import gensim\n",
    "from gensim import corpora\n",
    "from gensim.models import LdaModel\n",
    "import string\n",
    "\n",
    "# Assuming 'text' column contains the text data\n",
    "documents = text_lemma.tolist()\n",
    "\n",
    "texts = []\n",
    "for document in documents:\n",
    "    # Remove punctuation\n",
    "    text = \"\".join([char for char in document if char not in string.punctuation])\n",
    "    # Tokenize and lowercase\n",
    "    words = text.lower().split()\n",
    "    texts.append(words)\n",
    "\n",
    "# Creating the term dictionary of our corpus, where every unique term is assigned an index\n",
    "dictionary = corpora.Dictionary(texts)\n",
    "\n",
    "# Converting list of documents (corpus) into Document Term Matrix using dictionary prepared above\n",
    "doc_term_matrix = [dictionary.doc2bow(text) for text in texts]\n",
    "\n"
   ]
  },
  {
   "cell_type": "code",
   "execution_count": 53,
   "id": "c44330e3",
   "metadata": {},
   "outputs": [],
   "source": [
    "# Creating the object for LDA model using gensim library\n",
    "random.seed(42)\n",
    "Lda = gensim.models.ldamodel.LdaModel\n",
    "\n",
    "# Running and Training LDA model on the document term matrix\n",
    "ldamodel = Lda(doc_term_matrix, num_topics=4, id2word = dictionary, passes=50, random_state=42)\n",
    "\n"
   ]
  },
  {
   "cell_type": "code",
   "execution_count": 54,
   "id": "7140115c",
   "metadata": {},
   "outputs": [
    {
     "name": "stdout",
     "output_type": "stream",
     "text": [
      "[['war', 'iraq', 'terrorism', 'deficit', 'foreign'], ['economy', 'donotknow', 'job', 'healthcare', 'world'], ['budget', 'people', 'work', 'government', 'unemployment'], ['money', 'economic', 'people', 'foreign', 'country']]\n"
     ]
    }
   ],
   "source": [
    "# Print the topics\n",
    "topics = ldamodel.print_topics(num_topics=4, num_words=5)\n",
    "\n",
    "# Create a list of lists for the top words in each topic\n",
    "lda_top_words_per_topic = []\n",
    "for topic in topics:\n",
    "    words = topic[1].split(\"+\")\n",
    "    words = [word.split(\"*\")[1].strip().strip('\"') for word in words]\n",
    "    lda_top_words_per_topic.append(words)\n",
    "\n",
    "print(lda_top_words_per_topic)"
   ]
  },
  {
   "cell_type": "code",
   "execution_count": 55,
   "id": "60dea677",
   "metadata": {},
   "outputs": [],
   "source": [
    "# Flatten the list of lists into a single list\n",
    "lda_top_words_per_topic_flat = [word for sublist in lda_top_words_per_topic for word in sublist]\n",
    "\n",
    "# Remove duplicates by converting the list to a set\n",
    "unique_words = set(lda_top_words_per_topic_flat)\n",
    "\n",
    "# If you need a list, convert the set back to a list\n",
    "lda_top_words_per_topic_flat = list(unique_words)"
   ]
  },
  {
   "cell_type": "code",
   "execution_count": 56,
   "id": "4bb97e85",
   "metadata": {},
   "outputs": [
    {
     "data": {
      "text/plain": [
       "0.18976014189843168"
      ]
     },
     "execution_count": 56,
     "metadata": {},
     "output_type": "execute_result"
    }
   ],
   "source": [
    "#Ovreall quality LDA topics\n",
    "cosine_matrix=CTApy.create_cosine_matrix(pretrained_model, lda_top_words_per_topic_flat)\n",
    "CTApy.calculate_quality_all(lda_top_words_per_topic, cosine_matrix)"
   ]
  },
  {
   "cell_type": "code",
   "execution_count": 57,
   "id": "39325c83",
   "metadata": {},
   "outputs": [],
   "source": [
    "# Get the topic probabilities for each document\n",
    "doc_topics = [ldamodel.get_document_topics(doc) for doc in doc_term_matrix]\n",
    "\n",
    "# Initialize a dataframe\n",
    "topics_lda = pd.DataFrame()\n",
    "\n",
    "# For each topic, create a column in the dataframe\n",
    "for i in range(ldamodel.num_topics):\n",
    "    topics_lda['topic_' + str(i)] = pd.to_numeric([doc[i][1] if i < len(doc) else 0 for doc in doc_topics])\n",
    "topics_lda['republican']=pd.to_numeric(outcome).reset_index(drop=True)"
   ]
  },
  {
   "cell_type": "code",
   "execution_count": 58,
   "id": "e4f09de7",
   "metadata": {},
   "outputs": [
    {
     "data": {
      "image/png": "[encoded data removed]",
      "text/plain": [
       "<Figure size 1000x500 with 1 Axes>"
      ]
     },
     "metadata": {},
     "output_type": "display_data"
    }
   ],
   "source": [
    "# Store coefficients and confidence intervals\n",
    "coefficients = []\n",
    "conf_intervals = []\n",
    "topics_lda.columns=['Topic 1','Topic 2','Topic 3','Topic 4','republican'] \n",
    "\n",
    "# Run a linear regression for each topic dummy\n",
    "for column in topics_lda.columns:\n",
    "    if column != 'republican':\n",
    "        X = topics_lda['republican']\n",
    "        y = topics_lda[column]\n",
    "        X = sm.add_constant(X)  # adding a constant\n",
    "\n",
    "        model = sm.OLS(y, X).fit()\n",
    "        coefficients.append(model.params[1])\n",
    "        conf_intervals.append(model.conf_int(alpha=0.1).iloc[1].values)\n",
    "\n",
    "#Define your desired font size and marker size\n",
    "font_size = 18\n",
    "marker_size = 10\n",
    "line_width = 2\n",
    "# Plot coefficients with confidence intervals\n",
    "plt.figure(figsize=(10, 5))\n",
    "\n",
    "topic_order=np.arange(len(coefficients),0,-1)-1\n",
    "\n",
    "plt.errorbar(coefficients, topic_order, \n",
    "             xerr=[abs((top-bot)/2) for top, bot in conf_intervals],\n",
    "             fmt='o', markersize=marker_size, elinewidth=line_width)\n",
    "plt.yticks(topic_order, topics_lda.columns[topics_lda.columns != 'republican'],fontsize=font_size)\n",
    "\n",
    "\n",
    "# Get the current limits of the x-axis\n",
    "xmin, xmax = plt.xlim()\n",
    "\n",
    "# Define x-axis labels and their positions\n",
    "labels = ['Democrat', u'\\u2190 Correlation \\u2192', 'Republican']  # Unicode characters for left and right arrows\n",
    "positions = [xmin, (xmin + xmax) / 2, xmax]  # Place 'Correlation' at the middle of the x-axis\n",
    "\n",
    "# Add new x-axis labels\n",
    "for pos, label in zip(positions, labels):\n",
    "    plt.text(pos, -0.15, label, fontsize=font_size, ha='center', va='top', transform=plt.gca().get_xaxis_transform())\n",
    "\n",
    "# Increase font size for original x-axis labels\n",
    "plt.xticks(fontsize=font_size)\n",
    "plt.axvline(0, color='black',linewidth=1)\n",
    "\n",
    "plt.savefig(path_graphs+'lda_topic_anes.png',bbox_inches='tight')\n",
    "plt.show()\n",
    "\n",
    "\n"
   ]
  },
  {
   "cell_type": "code",
   "execution_count": null,
   "id": "3631f7eb",
   "metadata": {},
   "outputs": [],
   "source": []
  },
  {
   "cell_type": "code",
   "execution_count": null,
   "id": "b1d06382",
   "metadata": {},
   "outputs": [],
   "source": []
  }
 ],
 "metadata": {
  "kernelspec": {
   "display_name": "Python 3 (ipykernel)",
   "language": "python",
   "name": "python3"
  },
  "language_info": {
   "codemirror_mode": {
    "name": "ipython",
    "version": 3
   },
   "file_extension": ".py",
   "mimetype": "text/x-python",
   "name": "python",
   "nbconvert_exporter": "python",
   "pygments_lexer": "ipython3",
   "version": "3.11.5"
  }
 },
 "nbformat": 4,
 "nbformat_minor": 5
}
