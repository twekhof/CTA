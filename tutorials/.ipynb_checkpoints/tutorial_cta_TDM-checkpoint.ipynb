{
 "cells": [
  {
   "cell_type": "markdown",
   "id": "078d979b-55c7-4745-965e-e7af8ef069a3",
   "metadata": {},
   "source": [
    "**CTA-Tutorial: Public Goods Experiment**\n",
    "\n",
    "This notebook uses CTA to analyze the Public Goods Experiment by Rand et al. (2012). The results were used in CTA's academic paper to validate the method (Wekhof, 2024). In this survey experiment, respondents were primed to decide based on either intuition or reflection to contribute to a public good. Later in the survey, respondents described their decision-making process in the game in a short text.\n",
    "\n",
    "To replicate Wekhof (2024), use the following package versions:<br/>\n",
    "-torch: 2.4.0<br/>\n",
    "-transformers: 4.32.1\n",
    "\n",
    "The dataset for the following example was also used by Roberts et al. (2014) to validate the Structural Topic Model (STM), and it is available on Harvard Dataverse. It is called \"tdm1011_metadata.csv\" and is available at https://doi.org/10.7910/DVN/29405.\n",
    "\n",
    "<br/><br/>\n",
    "*References*\n",
    "\n",
    "Rand, D. G., Greene, J. D. and Nowak, M. A.: 2012, Spontaneous giving and calculated greed, Nature 489(7416), 427–430.\n",
    "\n",
    "Roberts, M. E., Stewart, B. M., Tingley, D., Lucas, C., Leder-Luis, J., Gadarian, S. K., Albertson, B. and Rand, D. G.: 2014, Structural topic models for open-ended survey responses, American Journal of Political Science 58(4), 1064–1082.\n",
    "\n",
    "Wekhof, Tobias. \"Conditional Topic Allocations for Open-Ended Survey Responses.\" Available at SSRN 4190308 (2024)."
   ]
  },
  {
   "cell_type": "code",
   "execution_count": 1,
   "id": "00ff71fa",
   "metadata": {},
   "outputs": [],
   "source": [
    "import CTApy\n",
    "import pandas as pd\n",
    "import numpy as np\n",
    "import random\n",
    "import os\n",
    "\n",
    "import statsmodels.api as sm\n",
    "import matplotlib.pyplot as plt\n",
    "import numpy as np"
   ]
  },
  {
   "cell_type": "code",
   "execution_count": 2,
   "id": "75ee3390",
   "metadata": {},
   "outputs": [],
   "source": [
    "# Set a seed value\n",
    "seed_value = 42  # can be any number\n",
    "\n",
    "os.environ['PYTHONHASHSEED'] = str(seed_value)\n",
    "\n",
    "random.seed(seed_value)\n",
    "\n",
    "np.random.seed(seed_value)"
   ]
  },
  {
   "cell_type": "code",
   "execution_count": 3,
   "id": "723f1ab8",
   "metadata": {},
   "outputs": [],
   "source": [
    "#define paths\n",
    "path_data=\"\" # path to data\n",
    "path_fasttext=\"\" # path to fasttext embeddings\n",
    "name_fasttext=\"cc.en.300.bin\" # this is the English fasttext model, for other languages, use the respective model\n",
    "spacy_model=\"en_core_web_sm\" # this is the English spacy model, for other languages, use the respective model"
   ]
  },
  {
   "cell_type": "code",
   "execution_count": 4,
   "id": "119ec1ea",
   "metadata": {},
   "outputs": [],
   "source": [
    "# load data\n",
    "df = pd.read_csv(path_data+\"tdm1011_metadata.csv\",sep=\",\",dtype=str)\n"
   ]
  },
  {
   "cell_type": "code",
   "execution_count": 5,
   "id": "62c39b4d",
   "metadata": {},
   "outputs": [],
   "source": [
    "# define variables\n",
    "\n",
    "df['treatment']=pd.to_numeric(df['primed.for.intuition'])\n",
    "text_var='strategy.description'\n",
    "outcome_var='treatment'\n",
    "metadata_vars=['education','female','contribution']\n",
    "fasttext_model=path_fasttext+name_fasttext"
   ]
  },
  {
   "cell_type": "code",
   "execution_count": 6,
   "id": "1948f473",
   "metadata": {},
   "outputs": [],
   "source": [
    "# preprocess data: this will give a df with preprocessed data and the embedding model\n",
    "data_processed,embedding_model=CTApy.preprocessing(df, text_var,outcome_var,metadata_vars,spacy_model,fasttext_model)"
   ]
  },
  {
   "cell_type": "code",
   "execution_count": 7,
   "id": "3b78f8fe",
   "metadata": {},
   "outputs": [],
   "source": [
    "#save preprocessed data to run other topic models\n",
    "#data_processed.to_csv(path_data+\"cta_data/tdm_lemmatized.csv\", index=False)"
   ]
  },
  {
   "cell_type": "code",
   "execution_count": 7,
   "id": "93c32b1e",
   "metadata": {},
   "outputs": [],
   "source": [
    "# parameters for prediction step with DistilBERT\n",
    "bert_model='distilbert-base-uncased' # this is the English DistilBERT model, for other languages, use the respective model\n",
    "seed=42\n",
    "epochs=20"
   ]
  },
  {
   "cell_type": "code",
   "execution_count": 8,
   "id": "375279ff",
   "metadata": {},
   "outputs": [
    {
     "name": "stderr",
     "output_type": "stream",
     "text": [
      "C:\\Users\\tobia\\anaconda3\\envs\\ctatest_new\\Lib\\site-packages\\transformers\\tokenization_utils_base.py:1601: FutureWarning: `clean_up_tokenization_spaces` was not set. It will be set to `True` by default. This behavior will be depracted in transformers v4.45, and will be then set to `False` by default. For more details check this issue: https://github.com/huggingface/transformers/issues/31884\n",
      "  warnings.warn(\n",
      "Some weights of DistilBertForSequenceClassification were not initialized from the model checkpoint at distilbert-base-uncased and are newly initialized: ['classifier.bias', 'classifier.weight', 'pre_classifier.bias', 'pre_classifier.weight']\n",
      "You should probably TRAIN this model on a down-stream task to be able to use it for predictions and inference.\n"
     ]
    },
    {
     "name": "stdout",
     "output_type": "stream",
     "text": [
      "This message points out that there are no pre-trained weights for the additional layer from the binary prediction. This is however expected because we train this model now.\n",
      "Train model over 20 epochs:\n"
     ]
    },
    {
     "data": {
      "application/vnd.jupyter.widget-view+json": {
       "model_id": "e319692718324933b2e3a091aa400377",
       "version_major": 2,
       "version_minor": 0
      },
      "text/plain": [
       "  0%|          | 0/20 [00:00<?, ?it/s]"
      ]
     },
     "metadata": {},
     "output_type": "display_data"
    }
   ],
   "source": [
    "# prediction step: it returns the trained distilBERT model and the tokenizer\n",
    "model, token = CTApy.prediction(data_processed['text_lemma'],data_processed['outcome'],seed,bert_model,epochs)"
   ]
  },
  {
   "cell_type": "code",
   "execution_count": 9,
   "id": "949306b6",
   "metadata": {},
   "outputs": [
    {
     "name": "stdout",
     "output_type": "stream",
     "text": [
      "calculating SHAP values...\n"
     ]
    },
    {
     "data": {
      "application/vnd.jupyter.widget-view+json": {
       "model_id": "46e7d8a29f3e4cb1856f68aa79ce06a2",
       "version_major": 2,
       "version_minor": 0
      },
      "text/plain": [
       "  0%|          | 0/248 [00:00<?, ?it/s]"
      ]
     },
     "metadata": {},
     "output_type": "display_data"
    }
   ],
   "source": [
    "# compute word importance: it returns a matrix with all SHAP values; min_len and min_freq is the minimum number of\n",
    "# characters and word occurence for the words considered for the SHAP values matrix\n",
    "shap_words=CTApy.word_importance(model, token, data_processed['text_lemma'],min_len=3,min_freq=2)"
   ]
  },
  {
   "cell_type": "code",
   "execution_count": 11,
   "id": "0b53021b",
   "metadata": {},
   "outputs": [],
   "source": [
    "#name for the SHAP value file, e.g., tdm_intuition_shap_bert_250724.csv\n",
    "\n",
    "shap_words.to_csv(path_data+\"tdm_intuition_shap_bert_170824.csv\", index=False)"
   ]
  },
  {
   "cell_type": "code",
   "execution_count": 15,
   "id": "6e02a763",
   "metadata": {},
   "outputs": [],
   "source": [
    "# load SHAP words matrix if necessary\n",
    "#shap_words=pd.read_csv(path_data+\"\")\n",
    "shap_words=pd.read_csv(path_data+\"cta_data/tdm_intuition_shap_bert_allwords_250724_train_lemma_shap_lemma.csv\")\n"
   ]
  },
  {
   "cell_type": "code",
   "execution_count": 12,
   "id": "5aa9b498",
   "metadata": {},
   "outputs": [],
   "source": [
    "# set parameters for topic allocation (step 3)\n",
    "\n",
    "p_val=0.1 # p-value cutoff to sort words into positive or negative impact group\n",
    "method='top_shap' # type of ordering of topics; \n",
    "# available options: 'top_shap', 'mean_shap', 'impact', 'freq_only', and 'cohecence'\n",
    "\n",
    "n_topics=2 # number of topics that will be shown, according to the ordering from \"method\""
   ]
  },
  {
   "cell_type": "code",
   "execution_count": 13,
   "id": "3ebd6477",
   "metadata": {},
   "outputs": [
    {
     "name": "stdout",
     "output_type": "stream",
     "text": [
      "positive\n",
      "alpha: 0.4, delta: 0.7999999999999999\n",
      "positive topics:\n",
      "[['feel', 'make', 'sure', 'believe', 'hope', 'keep'], ['choose', 'right', 'good']]\n",
      "\n",
      "quality positive:\n",
      "0.2523675541942791\n",
      "\n",
      "There were a total of 2 positive topics.\n",
      "\n",
      "negative\n",
      "alpha: 1.2000000000000002, delta: 0.8999999999999999\n",
      "negative topics:\n",
      "[['group', 'participant', 'people'], ['want', 'decide', 'leave']]\n",
      "\n",
      "quality negative:\n",
      "0.33359273034654263\n",
      "\n",
      "There were a total of 5 negative topics.\n",
      "\n"
     ]
    }
   ],
   "source": [
    "# topic allocation (step 3): it returns a list with the topics positively associated with the outcome and negatively associated\n",
    "# the inputs are the SHAP matrix, the cutoff p-value, ordering method, number of topics to show, preprocessed data, and\n",
    "# the embedding model\n",
    "\n",
    "topics_pos, topics_neg=CTApy.allocate_topics(shap_words,p_val,method,n_topics,data_processed['text_lemma'],embedding_model)"
   ]
  },
  {
   "cell_type": "code",
   "execution_count": 14,
   "id": "48baa168",
   "metadata": {},
   "outputs": [
    {
     "name": "stdout",
     "output_type": "stream",
     "text": [
      "               Topic  Share [%]\n",
      "0  Treatment Topic 1  35.080645\n",
      "1  Treatment Topic 2  30.645161\n",
      "2    Control Topic 1  34.274194\n",
      "3    Control Topic 2  22.177419\n"
     ]
    }
   ],
   "source": [
    "# label the pos/neg topics and tag each individual text answer with the respoective topic\n",
    "\n",
    "name_pos='Treatment'\n",
    "name_neg='Control'\n",
    "text=data_processed['text_lemma']\n",
    "outcome=data_processed['outcome']\n",
    "\n",
    "# tags the text answers with CTA topics; multiple topics per response possible\n",
    "# inputs are the text, the pos and neg topic lists, the SHAP matrix, the topic names, and the tag type\n",
    "# for the tag type there are two possibilities: 'shap' (using shap values) or 'indicator', which allocates a dummy variable for\n",
    "# each topic\n",
    "\n",
    "df_reg=CTApy.tag_text(text,outcome,topics_pos,topics_neg,shap_words,name_pos,name_neg,tag_type='shap')"
   ]
  },
  {
   "cell_type": "code",
   "execution_count": 15,
   "id": "a1a1a5f4",
   "metadata": {},
   "outputs": [],
   "source": [
    "#####################\n",
    "# Descriptive Plots #\n",
    "#####################\n",
    "\n",
    "# Convert DataFrame to numeric data type\n",
    "df_reg = df_reg.apply(pd.to_numeric, errors='coerce')\n",
    "\n",
    "# Store coefficients and confidence intervals\n",
    "coefficients = []\n",
    "conf_intervals = []\n",
    "\n",
    "# Run a linear regression for each topic dummy\n",
    "for column in df_reg.columns:\n",
    "    if column != 'outcome':\n",
    "        X = df_reg['outcome']\n",
    "        y = df_reg[column]\n",
    "        X = sm.add_constant(X)  # adding a constant\n",
    "\n",
    "        model = sm.OLS(y, X).fit()\n",
    "        coefficients.append(model.params.iloc[1])  # Use iloc to access by position\n",
    "        conf_intervals.append(model.conf_int(alpha=0.1).iloc[1].values)"
   ]
  },
  {
   "cell_type": "code",
   "execution_count": 16,
   "id": "7b3f6c19",
   "metadata": {},
   "outputs": [
    {
     "data": {
      "image/png": "[encoded data removed]",
      "text/plain": [
       "<Figure size 1000x500 with 1 Axes>"
      ]
     },
     "metadata": {},
     "output_type": "display_data"
    }
   ],
   "source": [
    "# Plot coefficients with confidence intervals\n",
    "# Define your desired font size and marker size\n",
    "font_size = 18\n",
    "marker_size = 10\n",
    "line_width = 2\n",
    "\n",
    "# Plot coefficients with confidence intervals\n",
    "plt.figure(figsize=(10, 5))\n",
    "topic_order=np.arange(len(coefficients),0,-1)-1\n",
    "# Plot error bars with increased marker size and line width\n",
    "plt.errorbar(coefficients, topic_order, \n",
    "             xerr=[abs((top-bot)/2) for top, bot in conf_intervals],\n",
    "             fmt='o', markersize=marker_size, elinewidth=line_width)\n",
    "\n",
    "# Increase font size for y-axis labels\n",
    "plt.yticks(topic_order, df_reg.columns[df_reg.columns != 'outcome'], fontsize=font_size)\n",
    "\n",
    "# Get the current limits of the x-axis\n",
    "xmin, xmax = plt.xlim()\n",
    "\n",
    "# Define x-axis labels and their positions\n",
    "labels = ['Reflection', u'\\u2190 Correlation \\u2192', 'Intuition']  # Unicode characters for left and right arrows\n",
    "positions = [xmin, (xmin + xmax) / 2, xmax]  # Place 'Correlation' at the middle of the x-axis\n",
    "\n",
    "# Add new x-axis labels\n",
    "for pos, label in zip(positions, labels):\n",
    "    plt.text(pos, -0.15, label, fontsize=font_size, ha='center', va='top', transform=plt.gca().get_xaxis_transform())\n",
    "\n",
    "# Increase font size for original x-axis labels\n",
    "plt.xticks(fontsize=font_size)\n",
    "\n",
    "plt.axvline(x=0, color='black', linewidth=1)\n",
    "\n",
    "#plt.savefig(path_graphs+'cta_topic_treatment_tdm.png',bbox_inches='tight')\n",
    "\n",
    "plt.show()"
   ]
  },
  {
   "cell_type": "code",
   "execution_count": 17,
   "id": "102d80d0",
   "metadata": {},
   "outputs": [
    {
     "data": {
      "text/plain": [
       "0.28"
      ]
     },
     "execution_count": 17,
     "metadata": {},
     "output_type": "execute_result"
    }
   ],
   "source": [
    "##########################\n",
    "# quality for all topics #\n",
    "##########################\n",
    "\n",
    "cluster_list_groups_all=topics_pos+topics_neg\n",
    "\n",
    "# Flatten the list of lists into a single list\n",
    "all_words_cluster_list_groups_all = [word for sublist in cluster_list_groups_all for word in sublist]\n",
    "# Remove duplicates by converting the list to a set\n",
    "unique_words = set(all_words_cluster_list_groups_all)\n",
    "\n",
    "# Convert the set back to a list\n",
    "all_words_cluster_list_groups_all = list(unique_words)\n",
    "\n",
    "cosine_matrix=CTApy.create_cosine_matrix(embedding_model, all_words_cluster_list_groups_all)\n",
    "round(CTApy.calculate_quality_all(cluster_list_groups_all, cosine_matrix),2)\n"
   ]
  }
 ],
 "metadata": {
  "kernelspec": {
   "display_name": "Python 3 (ipykernel)",
   "language": "python",
   "name": "python3"
  },
  "language_info": {
   "codemirror_mode": {
    "name": "ipython",
    "version": 3
   },
   "file_extension": ".py",
   "mimetype": "text/x-python",
   "name": "python",
   "nbconvert_exporter": "python",
   "pygments_lexer": "ipython3",
   "version": "3.11.5"
  }
 },
 "nbformat": 4,
 "nbformat_minor": 5
}
