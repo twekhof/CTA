{
 "cells": [
  {
   "cell_type": "markdown",
   "id": "571b9cd0-a764-4263-9395-54f8bb85ffc4",
   "metadata": {},
   "source": [
    "**CTA-Tutorial: Immigration Views**\n",
    "\n",
    "This notebook uses CTA to analyze the Immigration Views experiment by Gadarian and Albertson (2014). The results were used in CTA's academic paper to validate the method (Wekhof, 2024). In the survey, respondents expressed their views on immigration to the US. Half of the respondents were treated with information to elicit worry about immigration, while the other half received neutral information. \n",
    "\n",
    "To replicate Wekhof (2024), use the following package versions:<br/>\n",
    "-torch: 2.4.0<br/>\n",
    "-transformers: 4.32.1\n",
    "\n",
    "The dataset for the following example was also used by Roberts et al. (2014) to validate the Structural Topic Model (STM), and it is available on Harvard Dataverse. It is called \"gadarian_metadata.csv\" and is available at https://doi.org/10.7910/DVN/29405.\n",
    "\n",
    "<br/><br/>\n",
    "*References*\n",
    "\n",
    "Gadarian, S. K. and Albertson, B.: 2014, Anxiety, immigration, and the search for information, Political Psychology 35(2), 133–164.\n",
    "\n",
    "Roberts, M. E., Stewart, B. M., Tingley, D., Lucas, C., Leder-Luis, J., Gadarian, S. K., Albertson, B. and Rand, D. G.: 2014, Structural topic models for open-ended survey responses, American Journal of Political Science 58(4), 1064–1082.\n",
    "\n",
    "Wekhof, Tobias. \"Conditional Topic Allocations for Open-Ended Survey Responses.\" Available at SSRN 4190308 (2024)."
   ]
  },
  {
   "cell_type": "code",
   "execution_count": 1,
   "id": "00ff71fa",
   "metadata": {},
   "outputs": [],
   "source": [
    "import CTApy\n",
    "import pandas as pd\n",
    "import numpy as np\n",
    "import random\n",
    "import os\n",
    "\n",
    "import statsmodels.api as sm\n",
    "import matplotlib.pyplot as plt\n",
    "import numpy as np"
   ]
  },
  {
   "cell_type": "code",
   "execution_count": 2,
   "id": "49449f8d",
   "metadata": {},
   "outputs": [],
   "source": [
    "# Set a seed value\n",
    "seed_value = 42  # can be any number\n",
    "\n",
    "os.environ['PYTHONHASHSEED'] = str(seed_value)\n",
    "\n",
    "random.seed(seed_value)\n",
    "\n",
    "np.random.seed(seed_value)"
   ]
  },
  {
   "cell_type": "code",
   "execution_count": null,
   "id": "811fb030",
   "metadata": {},
   "outputs": [],
   "source": [
    "#define paths\n",
    "path_data=\"\" # path to data\n",
    "path_fasttext=\"\" # path to fasttext embeddings\n",
    "name_fasttext=\"cc.en.300.bin\" # this is the English fasttext model, for other languages, use the respective model\n",
    "spacy_model=\"en_core_web_sm\" # this is the English spacy model, for other languages, use the respective model"
   ]
  },
  {
   "cell_type": "code",
   "execution_count": 3,
   "id": "4d794f36",
   "metadata": {},
   "outputs": [],
   "source": [
    "# load data\n",
    "df = pd.read_csv(path_data+\"gadarian_metadata.csv\",sep=\",\",dtype=str)"
   ]
  },
  {
   "cell_type": "code",
   "execution_count": 4,
   "id": "064927a9",
   "metadata": {},
   "outputs": [],
   "source": [
    "# define variables\n",
    "\n",
    "text_var='open ended response'\n",
    "outcome_var='treat'\n",
    "metadata_vars=['anger_ra1','anger_ra2','enthusiasm_ra1','enthusiasm_ra2',\n",
    "               'fear_ra1','fear_ra2','immigrants_ra1','immigrants_ra2','legal','pid_rep']\n",
    "\n",
    "fasttext_model=path_fasttext+name_fasttext\n",
    "\n",
    "#convert outcome into a numerical indicator\n",
    "df[outcome_var]=df[outcome_var].str[0]\n",
    "\n",
    "fasttext_model=path_fasttext+name_fasttext"
   ]
  },
  {
   "cell_type": "code",
   "execution_count": 5,
   "id": "89f52252",
   "metadata": {},
   "outputs": [],
   "source": []
  },
  {
   "cell_type": "code",
   "execution_count": 6,
   "id": "1948f473",
   "metadata": {},
   "outputs": [],
   "source": [
    "# preprocess data: this will give a df with preprocessed data and the embedding model\n",
    "\n",
    "data_processed,embedding_model=CTApy.preprocessing(df, text_var,outcome_var,metadata_vars,spacy_model,fasttext_model)"
   ]
  },
  {
   "cell_type": "code",
   "execution_count": 7,
   "id": "219a1fd5",
   "metadata": {},
   "outputs": [],
   "source": [
    "#save preprocessed data to run other topic models\n",
    "#data_processed.to_csv(path_data+\"cta_data/gadarian_lemmatized.csv\", index=False)"
   ]
  },
  {
   "cell_type": "code",
   "execution_count": 8,
   "id": "93c32b1e",
   "metadata": {},
   "outputs": [],
   "source": [
    "# parameters for prediction step with DistilBERT\n",
    "bert_model='distilbert-base-uncased' # this is the English DistilBERT model, for other languages, use the respective model\n",
    "seed=42\n",
    "epochs=20"
   ]
  },
  {
   "cell_type": "code",
   "execution_count": 9,
   "id": "375279ff",
   "metadata": {},
   "outputs": [
    {
     "name": "stderr",
     "output_type": "stream",
     "text": [
      "C:\\Users\\tobia\\anaconda3\\envs\\ctatest\\lib\\site-packages\\huggingface_hub\\file_download.py:1150: FutureWarning: `resume_download` is deprecated and will be removed in version 1.0.0. Downloads always resume when possible. If you want to force a new download, use `force_download=True`.\n",
      "  warnings.warn(\n",
      "Some weights of DistilBertForSequenceClassification were not initialized from the model checkpoint at distilbert-base-uncased and are newly initialized: ['classifier.bias', 'classifier.weight', 'pre_classifier.bias', 'pre_classifier.weight']\n",
      "You should probably TRAIN this model on a down-stream task to be able to use it for predictions and inference.\n"
     ]
    },
    {
     "name": "stdout",
     "output_type": "stream",
     "text": [
      "This message points out that there are no pre-trained weights for the additional layer from the binary prediction. This is however expected because we train this model now.\n",
      "Train model over 20 epochs:\n"
     ]
    },
    {
     "data": {
      "application/vnd.jupyter.widget-view+json": {
       "model_id": "e0b625b1c9f74ce0995aa2226a207bcc",
       "version_major": 2,
       "version_minor": 0
      },
      "text/plain": [
       "  0%|          | 0/20 [00:00<?, ?it/s]"
      ]
     },
     "metadata": {},
     "output_type": "display_data"
    }
   ],
   "source": [
    "# prediction step: it returns the trained distilBERT model and the tokenizer\n",
    "\n",
    "model, token = CTApy.prediction(data_processed['text_lemma'],data_processed['outcome'],seed,bert_model,epochs)"
   ]
  },
  {
   "cell_type": "code",
   "execution_count": 10,
   "id": "949306b6",
   "metadata": {},
   "outputs": [
    {
     "name": "stdout",
     "output_type": "stream",
     "text": [
      "calculating SHAP values...\n"
     ]
    },
    {
     "data": {
      "application/vnd.jupyter.widget-view+json": {
       "model_id": "86a76c11a6e24626a84cbb8b36a283f3",
       "version_major": 2,
       "version_minor": 0
      },
      "text/plain": [
       "  0%|          | 0/349 [00:00<?, ?it/s]"
      ]
     },
     "metadata": {},
     "output_type": "display_data"
    }
   ],
   "source": [
    "# compute word importance: it returns a matrix with all SHAP values; min_len and min_freq is the minimum number of\n",
    "# characters and word occurence for the words considered for the SHAP values matrix\n",
    "\n",
    "shap_words=CTApy.word_importance(model, token, data_processed['text_lemma'],min_len=3,min_freq=2)"
   ]
  },
  {
   "cell_type": "code",
   "execution_count": 11,
   "id": "9a4c86e6",
   "metadata": {},
   "outputs": [],
   "source": [
    "#name for the shap value file, e.g., gadarian_treatment_shap_bert_180824.csv\n",
    "shap_words.to_csv(path_data+\"cta_data/gadarian_treatment_shap_bert_180824.csv\", index=False)"
   ]
  },
  {
   "cell_type": "code",
   "execution_count": 9,
   "id": "1ebec9f3",
   "metadata": {},
   "outputs": [],
   "source": [
    "# load SHAP words matrix if necessary\n",
    "#shap_words=pd.read_csv(path_data+\"\")\n"
   ]
  },
  {
   "cell_type": "code",
   "execution_count": 12,
   "id": "5aa9b498",
   "metadata": {},
   "outputs": [],
   "source": [
    "# set parameters for topic allocation (step 3)\n",
    "\n",
    "p_val=0.1 # p-value cutoff to sort words into positive or negative impact group\n",
    "method='top_shap' # type of ordering of topics; \n",
    "# available options: 'top_shap', 'mean_shap', 'impact', 'freq_only', and 'cohecence'\n",
    "\n",
    "n_topics=2 # number of topics that will be shown, according to the ordering from \"method\""
   ]
  },
  {
   "cell_type": "code",
   "execution_count": 13,
   "id": "2a537ecf-f716-4be2-9231-3a35dea7a825",
   "metadata": {},
   "outputs": [
    {
     "name": "stdout",
     "output_type": "stream",
     "text": [
      "positive\n",
      "alpha: 3.400000000000001, delta: 0.7\n",
      "positive topics:\n",
      "[['crime', 'criminal', 'terrorist'], ['take', 'give', 'get', 'let', 'make', 'lose']]\n",
      "\n",
      "quality positive:\n",
      "0.47440572225922256\n",
      "\n",
      "There were a total of 2 positive topics.\n",
      "\n",
      "negative\n",
      "alpha: 2.400000000000001, delta: 0.8999999999999999\n",
      "negative topics:\n",
      "[['illegal', 'legally', 'legal', 'law'], ['people', 'think', 'good']]\n",
      "\n",
      "quality negative:\n",
      "0.3576613972423625\n",
      "\n",
      "There were a total of 4 negative topics.\n",
      "\n"
     ]
    }
   ],
   "source": [
    "# topic allocation (step 3): it returns a list with the topics positively associated with the outcome and negatively associated\n",
    "# the inputs are the SHAP matrix, the cutoff p-value, ordering method, number of topics to show, preprocessed data, and\n",
    "# the embedding model \n",
    "\n",
    "topics_pos, topics_neg=CTApy.allocate_topics(shap_words,p_val,method,n_topics,data_processed['text_lemma'],embedding_model)"
   ]
  },
  {
   "cell_type": "code",
   "execution_count": 14,
   "id": "8dbbfc62",
   "metadata": {},
   "outputs": [
    {
     "name": "stdout",
     "output_type": "stream",
     "text": [
      "               Topic  Share [%]\n",
      "0  Treatment Topic 1  11.461318\n",
      "1  Treatment Topic 2  19.770774\n",
      "2    Control Topic 1  40.687679\n",
      "3    Control Topic 2  30.659026\n"
     ]
    }
   ],
   "source": [
    "# label the pos/neg topics and tag each individual text answer with the respoective topic\n",
    "\n",
    "name_pos='Treatment'\n",
    "name_neg='Control'\n",
    "text=data_processed['text_lemma']\n",
    "outcome=data_processed['outcome']\n",
    "\n",
    "# tags the text answers with CTA topics; multiple topics per response possible\n",
    "# inputs are the text, the pos and neg topic lists, the SHAP matrix, the topic names, and the tag type\n",
    "# for the tag type there are two possibilities: 'shap' (using shap values) or 'indicator', which allocates a dummy variable for\n",
    "# each topic\n",
    "\n",
    "df_reg=CTApy.tag_text(text,outcome,topics_pos,topics_neg,shap_words,name_pos,name_neg,tag_type='shap')"
   ]
  },
  {
   "cell_type": "code",
   "execution_count": 15,
   "id": "af6edb5d",
   "metadata": {},
   "outputs": [
    {
     "name": "stdout",
     "output_type": "stream",
     "text": [
      "Average compound score for sublist 1: -0.5865999999999999\n",
      "Average compound score for sublist 2: -0.06698333333333333\n",
      "Average compound score for sublist 3: -0.081675\n",
      "Average compound score for sublist 4: 0.1468\n",
      "-0.06698333333333333\n",
      "0.1468\n"
     ]
    },
    {
     "data": {
      "image/png": "[encoded data removed]",
      "text/plain": [
       "<Figure size 1200x800 with 1 Axes>"
      ]
     },
     "metadata": {},
     "output_type": "display_data"
    },
    {
     "data": {
      "image/png": "[encoded data removed]",
      "text/plain": [
       "<Figure size 1000x500 with 1 Axes>"
      ]
     },
     "metadata": {},
     "output_type": "display_data"
    }
   ],
   "source": [
    "#####################\n",
    "# Descriptive Plots #\n",
    "#####################\n",
    "\n",
    "# make one list of all positive and negative topics and calculate sentiment for each topic with Vader\n",
    "cluster_list_groups_all=topics_pos+topics_neg\n",
    "cluster_list_groups_all\n",
    "\n",
    "from nltk.sentiment.vader import SentimentIntensityAnalyzer\n",
    "import nltk\n",
    "\n",
    "analyzer = SentimentIntensityAnalyzer()\n",
    "\n",
    "# Initialize an empty list to hold the average compound scores\n",
    "average_scores = []\n",
    "\n",
    "# Loop over the sublists\n",
    "for sublist in cluster_list_groups_all:\n",
    "    # Initialize a variable to hold the sum of the compound scores\n",
    "    compound_sum = 0\n",
    "    # Loop over the words in the sublist\n",
    "    for word in sublist:\n",
    "        # Get the sentiment scores\n",
    "        sentiment = analyzer.polarity_scores(word)\n",
    "        # Add the compound score to the sum\n",
    "        compound_sum += sentiment['compound']\n",
    "    # Calculate the average compound score and add it to the list of average scores\n",
    "    average_scores.append(compound_sum / len(sublist))\n",
    "\n",
    "# Print the average compound scores\n",
    "for i, score in enumerate(average_scores):\n",
    "    print(f\"Average compound score for sublist {i + 1}: {score}\")\n",
    "print(np.mean(average_scores[1:2]))    \n",
    "print(np.mean(average_scores[3:4]))    \n",
    "    \n",
    "# create plot with regression of topic on outcome and with sentiment\n",
    "import statsmodels.api as sm\n",
    "import matplotlib.pyplot as plt\n",
    "import numpy as np\n",
    "\n",
    "# Convert DataFrame to numeric data type\n",
    "df_reg = df_reg.apply(pd.to_numeric, errors='coerce')\n",
    "\n",
    "\n",
    "# Store coefficients and confidence intervals\n",
    "coefficients = []\n",
    "conf_intervals = []\n",
    "\n",
    "\n",
    "# Run a linear regression for each topic dummy\n",
    "for column in df_reg.columns:\n",
    "    if column != 'outcome':\n",
    "        X = df_reg['outcome']\n",
    "        y = df_reg[column]\n",
    "        X = sm.add_constant(X)  # adding a constant\n",
    "\n",
    "        model = sm.OLS(y, X).fit()\n",
    "        coefficients.append(model.params.iloc[1])  # Use iloc to access by position\n",
    "        conf_intervals.append(model.conf_int(alpha=0.1).iloc[1].values)\n",
    "\n",
    "        \n",
    "coeff_sentiment=pd.DataFrame({'topic':df_reg.columns[df_reg.columns != 'outcome'],\n",
    "                              'coefficient':coefficients,'sentiment':average_scores, 'conf_intervals':conf_intervals})   \n",
    "# Create scatterplot\n",
    "plt.figure(figsize=(12, 8))  # Increase plot size\n",
    "\n",
    "# Add error bars\n",
    "for i in range(coeff_sentiment.shape[0]):\n",
    "    x = coeff_sentiment['coefficient'][i]\n",
    "    y = coeff_sentiment['sentiment'][i]\n",
    "    ci = coeff_sentiment['conf_intervals'][i]\n",
    "    plt.errorbar(x, y, xerr=np.array([[x - ci[0]], [ci[1] - x]]), \n",
    "                 fmt='o', markersize=10, linewidth=3)  # Increase markersize and linewidth here\n",
    "\n",
    "# Add labels\n",
    "offset_y = 0.01 \n",
    "offset_x = 0.15 # Adjust this value to move the labels up or down\n",
    "for i in range(coeff_sentiment.shape[0]):\n",
    "    plt.text(coeff_sentiment['coefficient'][i] - offset_x, \n",
    "             coeff_sentiment['sentiment'][i] + offset_y, coeff_sentiment['topic'][i], fontsize=18)  # Increase font size here\n",
    "\n",
    "plt.axhline(0, color='black',linewidth=1)  # Add y-axis line at 0\n",
    "plt.axvline(0, color='black',linewidth=1)  # Add x-axis line at 0\n",
    "\n",
    "# Define axis limits\n",
    "#plt.xlim([-0.02, 0.02])  # Set x-axis limits\n",
    "#plt.ylim([-0.05, 0.14])  # Set y-axis limits\n",
    "\n",
    "plt.xlabel('Correlation with treatment', fontsize=18)  # Increase font size here\n",
    "plt.ylabel('Sentiment', fontsize=18)  # Increase font size here\n",
    "plt.xticks(fontsize=18)\n",
    "plt.yticks(fontsize=18)\n",
    "# plt.title('CTA: Scatterplot of Treatment Coefficients and Sentiment', fontsize=16)  # Increase font size here\n",
    "# plt.grid(True)\n",
    "#plt.savefig(path_graphs+'cta_topic_treatment_gadarian.png',bbox_inches='tight')\n",
    "plt.show()\n",
    "\n",
    "\n",
    "# regression of topics on RA1 fear (manually coded by RA1)\n",
    "df_reg2=pd.concat([df_reg, data_processed], axis=1)\n",
    "# Convert DataFrame to numeric data type\n",
    "df_reg2 = df_reg2.apply(pd.to_numeric, errors='coerce')\n",
    "outcome_tocheck=pd.to_numeric(df_reg2['fear_ra1'])\n",
    "# Store coefficients and confidence intervals\n",
    "coefficients = []\n",
    "conf_intervals = []\n",
    "\n",
    "# Run a linear regression for each topic dummy\n",
    "for column in df_reg.columns:\n",
    "    if column != 'outcome':\n",
    "        X = df_reg2['outcome']\n",
    "        y = df_reg[column]\n",
    "        X = sm.add_constant(X)  # adding a constant\n",
    "\n",
    "        model = sm.OLS(y, X).fit()\n",
    "        coefficients.append(model.params.iloc[1])  # Use iloc to access by position\n",
    "        conf_intervals.append(model.conf_int(alpha=0.1).iloc[1].values)\n",
    "\n",
    "\n",
    "# Plot coefficients with confidence intervals\n",
    "# Define your desired font size and marker size\n",
    "font_size = 18\n",
    "marker_size = 10\n",
    "line_width = 2\n",
    "topic_order=np.arange(len(coefficients),0,-1)-1\n",
    "# Plot coefficients with confidence intervals\n",
    "plt.figure(figsize=(10, 5))\n",
    "\n",
    "# Plot error bars with increased marker size and line width\n",
    "plt.errorbar(coefficients, topic_order, \n",
    "             xerr=[abs((top-bot)/2) for top, bot in conf_intervals],\n",
    "             fmt='o', markersize=marker_size, elinewidth=line_width)\n",
    "\n",
    "# Increase font size for y-axis labels\n",
    "plt.yticks(topic_order, df_reg.columns[df_reg.columns != 'outcome'], fontsize=font_size)\n",
    "\n",
    "# Increase font size for x-axis labels\n",
    "plt.xticks(fontsize=font_size)\n",
    "plt.axvline(0, color='black',linewidth=1)\n",
    "plt.xlabel('Correlation with handcoded \"fear\" topic', fontsize=18)  # Increase font size here\n",
    "\n",
    "#plt.savefig(path_graphs+'cta_topic_treatment_RA1_fear_gadarian.png',bbox_inches='tight')\n",
    "\n",
    "plt.show()"
   ]
  },
  {
   "cell_type": "code",
   "execution_count": null,
   "id": "1c6b9b70",
   "metadata": {},
   "outputs": [],
   "source": []
  },
  {
   "cell_type": "code",
   "execution_count": 16,
   "id": "56cdeb18",
   "metadata": {},
   "outputs": [
    {
     "data": {
      "text/plain": [
       "0.38"
      ]
     },
     "execution_count": 16,
     "metadata": {},
     "output_type": "execute_result"
    }
   ],
   "source": [
    "##########################\n",
    "# quality for all topics #\n",
    "##########################\n",
    "\n",
    "# Flatten the list of lists into a single list\n",
    "all_words_cluster_list_groups_all = [word for sublist in cluster_list_groups_all for word in sublist]\n",
    "# Remove duplicates by converting the list to a set\n",
    "unique_words = set(all_words_cluster_list_groups_all)\n",
    "\n",
    "# Convert the set back to a list\n",
    "all_words_cluster_list_groups_all = list(unique_words)\n",
    "\n",
    "cosine_matrix=CTApy.create_cosine_matrix(embedding_model, all_words_cluster_list_groups_all)\n",
    "round(CTApy.calculate_quality_all(cluster_list_groups_all, cosine_matrix),2)\n"
   ]
  }
 ],
 "metadata": {
  "kernelspec": {
   "display_name": "Python 3 (ipykernel)",
   "language": "python",
   "name": "python3"
  },
  "language_info": {
   "codemirror_mode": {
    "name": "ipython",
    "version": 3
   },
   "file_extension": ".py",
   "mimetype": "text/x-python",
   "name": "python",
   "nbconvert_exporter": "python",
   "pygments_lexer": "ipython3",
   "version": "3.11.5"
  }
 },
 "nbformat": 4,
 "nbformat_minor": 5
}
