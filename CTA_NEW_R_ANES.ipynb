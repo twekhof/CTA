{
 "cells": [
  {
   "cell_type": "code",
   "execution_count": 1,
   "metadata": {},
   "outputs": [],
   "source": [
    "#CTA ANES"
   ]
  },
  {
   "cell_type": "code",
   "execution_count": null,
   "metadata": {},
   "outputs": [],
   "source": [
    "suppressPackageStartupMessages({\n",
    "library(MASS, quietly = TRUE)\n",
    "library(stringi, quietly = TRUE)\n",
    "library(wordcloud, quietly = TRUE)\n",
    "library(dplyr, quietly = TRUE)\n",
    "library(tidyr, quietly = TRUE)\n",
    "library(ggplot2, quietly = TRUE)\n",
    "library(data.table, quietly = TRUE)\n",
    "library(stargazer, quietly = TRUE)\n",
    "library(quanteda, quietly = TRUE)\n",
    "library(xlsx, quietly = TRUE)\n",
    "library(stringr, quietly = TRUE)\n",
    "library(xtable, quietly = TRUE)\n",
    "    library(mfx, quietly = TRUE)\n",
    "    library(forcats, quietly = TRUE)\n",
    "    library(ggalt)\n",
    "    library(stm)\n",
    "    library(udpipe)\n",
    "    library(BTM)\n",
    "    library(quanteda)\n",
    "    library(spacyr)\n",
    "    })"
   ]
  },
  {
   "cell_type": "code",
   "execution_count": null,
   "metadata": {},
   "outputs": [],
   "source": []
  },
  {
   "cell_type": "code",
   "execution_count": 3,
   "metadata": {},
   "outputs": [],
   "source": [
    "path_data <- \"\"\n",
    "\n",
    "df <- read.csv(paste(path_data,'final_anes_metadata.csv',sep=''))\n",
    "# Convert columns to numeric in R\n",
    "df$ideology <- as.numeric(df$ideology)\n",
    "df$pid_summary <- as.numeric(df$pid_summary)\n",
    "\n",
    "# Filter rows based on conditions\n",
    "df <- df[df$pid_summary > 0, ]\n",
    "df <- df[df$pid_summary != 3, ]\n",
    "df <- df[!is.na(df$pid_summary), ]  # Remove NA values\n",
    "\n",
    "# Create a new column 'republican'\n",
    "df$republican <- ifelse(df$pid_summary > 3, 1, 0)\n",
    "\n",
    "# Assign values to 'text', 'outcome', and 'metadata'\n",
    "text <- df$mip_1\n",
    "outcome <- df$republican\n",
    "metadata <- df[c(\"miiele1_code1\", \"mippol1_code1\", \"age\", \"female\")]\n"
   ]
  },
  {
   "cell_type": "code",
   "execution_count": 4,
   "metadata": {},
   "outputs": [
    {
     "name": "stderr",
     "output_type": "stream",
     "text": [
      "Warning message in nsentence.character(text):\n",
      "\"nsentence() does not correctly count sentences in all lower-cased text\"\n"
     ]
    }
   ],
   "source": [
    "df$nsentence <- ifelse(is.na(text)==F,nsentence(text),NA)\n",
    "df$nwords <- ifelse(is.na(text)==F,str_count(text, \"\\\\w+\"),NA)"
   ]
  },
  {
   "cell_type": "code",
   "execution_count": 5,
   "metadata": {},
   "outputs": [
    {
     "data": {
      "text/html": [
       "1.00076982294072"
      ],
      "text/latex": [
       "1.00076982294072"
      ],
      "text/markdown": [
       "1.00076982294072"
      ],
      "text/plain": [
       "[1] 1.00077"
      ]
     },
     "metadata": {},
     "output_type": "display_data"
    },
    {
     "data": {
      "text/html": [
       "1"
      ],
      "text/latex": [
       "1"
      ],
      "text/markdown": [
       "1"
      ],
      "text/plain": [
       "[1] 1"
      ]
     },
     "metadata": {},
     "output_type": "display_data"
    },
    {
     "data": {
      "text/html": [
       "0.0277456832808931"
      ],
      "text/latex": [
       "0.0277456832808931"
      ],
      "text/markdown": [
       "0.0277456832808931"
      ],
      "text/plain": [
       "[1] 0.02774568"
      ]
     },
     "metadata": {},
     "output_type": "display_data"
    }
   ],
   "source": [
    "mean(df$nsentence)\n",
    "median(df$nsentence)\n",
    "sd(df$nsentence)"
   ]
  },
  {
   "cell_type": "code",
   "execution_count": 6,
   "metadata": {},
   "outputs": [
    {
     "data": {
      "text/html": [
       "4.10315627405697"
      ],
      "text/latex": [
       "4.10315627405697"
      ],
      "text/markdown": [
       "4.10315627405697"
      ],
      "text/plain": [
       "[1] 4.103156"
      ]
     },
     "metadata": {},
     "output_type": "display_data"
    },
    {
     "data": {
      "text/html": [
       "2"
      ],
      "text/latex": [
       "2"
      ],
      "text/markdown": [
       "2"
      ],
      "text/plain": [
       "[1] 2"
      ]
     },
     "metadata": {},
     "output_type": "display_data"
    },
    {
     "data": {
      "text/html": [
       "5.90031318925849"
      ],
      "text/latex": [
       "5.90031318925849"
      ],
      "text/markdown": [
       "5.90031318925849"
      ],
      "text/plain": [
       "[1] 5.900313"
      ]
     },
     "metadata": {},
     "output_type": "display_data"
    }
   ],
   "source": [
    "mean(df$nwords)\n",
    "median(df$nwords)\n",
    "sd(df$nwords)"
   ]
  },
  {
   "cell_type": "code",
   "execution_count": 7,
   "metadata": {},
   "outputs": [
    {
     "data": {
      "text/html": [
       "1299"
      ],
      "text/latex": [
       "1299"
      ],
      "text/markdown": [
       "1299"
      ],
      "text/plain": [
       "[1] 1299"
      ]
     },
     "metadata": {},
     "output_type": "display_data"
    }
   ],
   "source": [
    "nrow(df)"
   ]
  },
  {
   "cell_type": "code",
   "execution_count": 9,
   "metadata": {},
   "outputs": [],
   "source": [
    "anes_lemma <- read.csv(paste(path_data,'anes_lemmatized.csv',sep=''))\n"
   ]
  },
  {
   "cell_type": "code",
   "execution_count": 10,
   "metadata": {},
   "outputs": [],
   "source": [
    "toks_q <- tokens(anes_lemma$text,\n",
    "  remove_punct = TRUE, remove_numbers = TRUE\n",
    ") %>%\n",
    "  tokens_tolower()"
   ]
  },
  {
   "cell_type": "code",
   "execution_count": 11,
   "metadata": {},
   "outputs": [],
   "source": [
    "as.data.frame.tokens <- function(x) {\n",
    "  data.frame(\n",
    "    doc_id = rep(names(x), lengths(x)),\n",
    "#       doc_id = rep(lengths(x)),\n",
    "    tokens = unlist(x, use.names = FALSE)\n",
    "  )\n",
    "}"
   ]
  },
  {
   "cell_type": "code",
   "execution_count": 12,
   "metadata": {},
   "outputs": [
    {
     "name": "stdout",
     "output_type": "stream",
     "text": [
      "2024-03-27 14:43:57 Start Gibbs sampling iteration 1/100\n",
      "2024-03-27 14:43:57 Start Gibbs sampling iteration 11/100\n",
      "2024-03-27 14:43:57 Start Gibbs sampling iteration 21/100\n",
      "2024-03-27 14:43:57 Start Gibbs sampling iteration 31/100\n",
      "2024-03-27 14:43:57 Start Gibbs sampling iteration 41/100\n",
      "2024-03-27 14:43:57 Start Gibbs sampling iteration 51/100\n",
      "2024-03-27 14:43:57 Start Gibbs sampling iteration 61/100\n",
      "2024-03-27 14:43:57 Start Gibbs sampling iteration 71/100\n",
      "2024-03-27 14:43:57 Start Gibbs sampling iteration 81/100\n",
      "2024-03-27 14:43:57 Start Gibbs sampling iteration 91/100\n"
     ]
    }
   ],
   "source": [
    "set.seed(42)\n",
    "model2 <- BTM(as.data.frame.tokens(toks_q), k = 4, beta = 0.01, iter = 100, trace = 10)"
   ]
  },
  {
   "cell_type": "code",
   "execution_count": null,
   "metadata": {},
   "outputs": [],
   "source": []
  },
  {
   "cell_type": "code",
   "execution_count": 13,
   "metadata": {},
   "outputs": [],
   "source": [
    "# Convert to dataframe\n",
    "df_topic_probabilities <- data.frame(predict(model2, newdata = as.data.frame.tokens(toks_q)))\n",
    "\n",
    "# Rename the columns\n",
    "colnames(df_topic_probabilities) <- paste0(\"topic_\", 1:ncol(df_topic_probabilities))\n",
    "\n",
    "df_topic_probabilities$doc <- rownames(df_topic_probabilities)\n",
    "\n",
    "# If you want 'doc' to be the first column\n",
    "df_topic_probabilities <- df_topic_probabilities[, c(ncol(df_topic_probabilities), 1:(ncol(df_topic_probabilities)-1))]\n",
    "df_topic_probabilities$doc <- as.numeric(gsub(\"text\", \"\", df_topic_probabilities$doc))\n",
    "df_topic_probabilities <- df_topic_probabilities[order(df_topic_probabilities$doc), ]\n",
    "rownames(df_topic_probabilities) <- NULL"
   ]
  },
  {
   "cell_type": "code",
   "execution_count": 15,
   "metadata": {},
   "outputs": [],
   "source": [
    "write.csv(df_topic_probabilities, \n",
    "          paste(path_data,\"btm_anes_topic_probabilities.csv\",sep=''),\n",
    "          row.names = FALSE)"
   ]
  },
  {
   "cell_type": "code",
   "execution_count": 16,
   "metadata": {},
   "outputs": [],
   "source": [
    "# Get top words for each topic\n",
    "top_words <- terms(model2, top_n = 5)\n",
    "\n",
    "# Initialize an empty dataframe\n",
    "df_top_words <- data.frame(matrix(ncol = length(top_words), nrow = 1))\n",
    "\n",
    "# Fill the dataframe\n",
    "for (i in 1:length(top_words)) {\n",
    "  df_top_words[,i] <- paste(top_words[[i]]$token, collapse = \", \")\n",
    "}\n",
    "\n",
    "# Rename the columns\n",
    "colnames(df_top_words) <- paste0(\"topic_\", 1:ncol(df_top_words))\n"
   ]
  },
  {
   "cell_type": "code",
   "execution_count": 18,
   "metadata": {},
   "outputs": [],
   "source": [
    "write.csv(df_top_words, \n",
    "          paste(path_data,\"btm_anes_top_words.csv\",sep=''), \n",
    "          row.names = FALSE)"
   ]
  },
  {
   "cell_type": "code",
   "execution_count": 20,
   "metadata": {},
   "outputs": [
    {
     "data": {
      "text/html": [
       "<table class=\"dataframe\">\n",
       "<caption>A data.frame: 1 × 4</caption>\n",
       "<thead>\n",
       "\t<tr><th scope=col>topic_1</th><th scope=col>topic_2</th><th scope=col>topic_3</th><th scope=col>topic_4</th></tr>\n",
       "\t<tr><th scope=col>&lt;chr&gt;</th><th scope=col>&lt;chr&gt;</th><th scope=col>&lt;chr&gt;</th><th scope=col>&lt;chr&gt;</th></tr>\n",
       "</thead>\n",
       "<tbody>\n",
       "\t<tr><td>world, foreign, country, economy, think</td><td>economy, money, job, problem, country</td><td>people, think, economy, get, go</td><td>war, need, iraq, people, job</td></tr>\n",
       "</tbody>\n",
       "</table>\n"
      ],
      "text/latex": [
       "A data.frame: 1 × 4\n",
       "\\begin{tabular}{llll}\n",
       " topic\\_1 & topic\\_2 & topic\\_3 & topic\\_4\\\\\n",
       " <chr> & <chr> & <chr> & <chr>\\\\\n",
       "\\hline\n",
       "\t world, foreign, country, economy, think & economy, money, job, problem, country & people, think, economy, get, go & war, need, iraq, people, job\\\\\n",
       "\\end{tabular}\n"
      ],
      "text/markdown": [
       "\n",
       "A data.frame: 1 × 4\n",
       "\n",
       "| topic_1 &lt;chr&gt; | topic_2 &lt;chr&gt; | topic_3 &lt;chr&gt; | topic_4 &lt;chr&gt; |\n",
       "|---|---|---|---|\n",
       "| world, foreign, country, economy, think | economy, money, job, problem, country | people, think, economy, get, go | war, need, iraq, people, job |\n",
       "\n"
      ],
      "text/plain": [
       "  topic_1                                 topic_2                              \n",
       "1 world, foreign, country, economy, think economy, money, job, problem, country\n",
       "  topic_3                         topic_4                     \n",
       "1 people, think, economy, get, go war, need, iraq, people, job"
      ]
     },
     "metadata": {},
     "output_type": "display_data"
    }
   ],
   "source": [
    "df_top_words"
   ]
  },
  {
   "cell_type": "code",
   "execution_count": 21,
   "metadata": {},
   "outputs": [
    {
     "name": "stdout",
     "output_type": "stream",
     "text": [
      "Building corpus... \n",
      "Converting to Lower Case... \n",
      "Removing punctuation... \n",
      "Removing stopwords... \n",
      "Removing numbers... \n",
      "Creating Output... \n",
      "Removing 376 of 633 terms (376 of 2607 tokens) due to frequency \n",
      "Removing 27 Documents with No Words \n",
      "Your corpus now has 1266 documents, 257 terms and 2231 tokens."
     ]
    }
   ],
   "source": [
    "#stm\n",
    "\n",
    "temp<-textProcessor(documents=anes_lemma$text,metadata=anes_lemma,stem = FALSE)\n",
    "out <- prepDocuments(temp$documents, temp$vocab, temp$meta)\n"
   ]
  },
  {
   "cell_type": "code",
   "execution_count": 22,
   "metadata": {},
   "outputs": [],
   "source": [
    "# help(textProcessor)"
   ]
  },
  {
   "cell_type": "code",
   "execution_count": 23,
   "metadata": {},
   "outputs": [
    {
     "name": "stdout",
     "output_type": "stream",
     "text": [
      "Beginning Spectral Initialization \n",
      "\t Calculating the gram matrix...\n",
      "\t Finding anchor words...\n",
      " \t....\n",
      "\t Recovering initialization...\n",
      " \t..\n",
      "Initialization complete.\n",
      ".........................................................................................................\n",
      "Completed E-Step (0 seconds). \n",
      "Completed M-Step. \n",
      "Completing Iteration 1 (approx. per word bound = -4.223) \n",
      ".........................................................................................................\n",
      "Completed E-Step (0 seconds). \n",
      "Completed M-Step. \n",
      "Model Converged \n"
     ]
    }
   ],
   "source": [
    "set.seed(42)\n",
    "mod.out <- stm(out$documents, out$vocab, 4,seed=42,\n",
    "prevalence=~republican, data=out$meta,max.em.its = 1000)\n"
   ]
  },
  {
   "cell_type": "code",
   "execution_count": 24,
   "metadata": {},
   "outputs": [
    {
     "name": "stdout",
     "output_type": "stream",
     "text": [
      "A topic model with 4 topics, 1266 documents and a 257 word dictionary.\n"
     ]
    },
    {
     "data": {
      "text/plain": [
       "Topic 1 Top Words:\n",
       " \t Highest Prob: donotknow, problem, economy, party, right, healthcare, war \n",
       " \t FREX: problem, party, right, big, corruption, democrats, donotknow \n",
       " \t Lift: corruption, party, problem, big, right, face, cooperation \n",
       " \t Score: problem, party, right, big, corruption, economy, donotknow \n",
       "Topic 2 Top Words:\n",
       " \t Highest Prob: economy, war, iraq, job, world, money, financial \n",
       " \t FREX: economy, iraq, war, job, financial, terrorist, world \n",
       " \t Lift: division, say, democracy, health, terror, away, start \n",
       " \t Score: economy, war, iraq, job, financial, world, money \n",
       "Topic 3 Top Words:\n",
       " \t Highest Prob: foreign, terrorism, affair, economy, policy, donotknow, budget \n",
       " \t FREX: foreign, affair, policy, terrorism, oil, like, equality \n",
       " \t Lift: fuel, foreign, oil, dependence, affair, policy, pull \n",
       " \t Score: foreign, affair, policy, economy, terrorism, oil, fuel \n",
       "Topic 4 Top Words:\n",
       " \t Highest Prob: people, country, economic, deficit, money, need, think \n",
       " \t FREX: people, country, deficit, need, debt, think, economic \n",
       " \t Lift: people, deficit, debt, worry, condition, country, communication \n",
       " \t Score: people, country, deficit, economic, need, think, debt "
      ]
     },
     "metadata": {},
     "output_type": "display_data"
    }
   ],
   "source": [
    "summary(mod.out)"
   ]
  },
  {
   "cell_type": "code",
   "execution_count": 25,
   "metadata": {},
   "outputs": [],
   "source": [
    "stm_topic_proportions <- as.data.frame(mod.out$theta)\n",
    "# Get the number of topics\n",
    "num_topics <- ncol(stm_topic_proportions)\n",
    "\n",
    "# Create the new column names\n",
    "new_colnames <- paste0(\"topic_\", 1:num_topics)\n",
    "\n",
    "# Assign the new column names to the dataframe\n",
    "colnames(stm_topic_proportions) <- new_colnames\n"
   ]
  },
  {
   "cell_type": "code",
   "execution_count": 26,
   "metadata": {},
   "outputs": [],
   "source": [
    "stm_topic_proportions$republican <- out$meta$republican"
   ]
  },
  {
   "cell_type": "code",
   "execution_count": 27,
   "metadata": {},
   "outputs": [],
   "source": [
    "write.csv(stm_topic_proportions, \n",
    "          paste(path_data,\"stm_anes_topic_probabilities.csv\",sep=''),\n",
    "          row.names = FALSE)"
   ]
  },
  {
   "cell_type": "code",
   "execution_count": 28,
   "metadata": {},
   "outputs": [],
   "source": [
    "# Get the top 5 words for each topic\n",
    "top_words <- labelTopics(mod.out, n=5)\n",
    "\n",
    "# Convert the matrix to a dataframe\n",
    "stm_top_words <- as.data.frame(t(top_words$prob))\n",
    "\n",
    "# Convert the top words for each topic to a single string, separated by a comma\n",
    "stm_top_words <- apply(stm_top_words, 2, paste, collapse = \", \")\n",
    "\n",
    "# Convert the matrix back to a dataframe\n",
    "stm_top_words <- as.data.frame(t(stm_top_words))\n",
    "\n",
    "# Assign the new column names to the dataframe\n",
    "colnames(stm_top_words) <- new_colnames"
   ]
  },
  {
   "cell_type": "code",
   "execution_count": 29,
   "metadata": {},
   "outputs": [
    {
     "data": {
      "text/html": [
       "<table class=\"dataframe\">\n",
       "<caption>A data.frame: 1 × 4</caption>\n",
       "<thead>\n",
       "\t<tr><th scope=col>topic_1</th><th scope=col>topic_2</th><th scope=col>topic_3</th><th scope=col>topic_4</th></tr>\n",
       "\t<tr><th scope=col>&lt;chr&gt;</th><th scope=col>&lt;chr&gt;</th><th scope=col>&lt;chr&gt;</th><th scope=col>&lt;chr&gt;</th></tr>\n",
       "</thead>\n",
       "<tbody>\n",
       "\t<tr><td>donotknow, problem, economy, party, right</td><td>economy, war, iraq, job, world</td><td>foreign, terrorism, affair, economy, policy</td><td>people, country, economic, deficit, money</td></tr>\n",
       "</tbody>\n",
       "</table>\n"
      ],
      "text/latex": [
       "A data.frame: 1 × 4\n",
       "\\begin{tabular}{llll}\n",
       " topic\\_1 & topic\\_2 & topic\\_3 & topic\\_4\\\\\n",
       " <chr> & <chr> & <chr> & <chr>\\\\\n",
       "\\hline\n",
       "\t donotknow, problem, economy, party, right & economy, war, iraq, job, world & foreign, terrorism, affair, economy, policy & people, country, economic, deficit, money\\\\\n",
       "\\end{tabular}\n"
      ],
      "text/markdown": [
       "\n",
       "A data.frame: 1 × 4\n",
       "\n",
       "| topic_1 &lt;chr&gt; | topic_2 &lt;chr&gt; | topic_3 &lt;chr&gt; | topic_4 &lt;chr&gt; |\n",
       "|---|---|---|---|\n",
       "| donotknow, problem, economy, party, right | economy, war, iraq, job, world | foreign, terrorism, affair, economy, policy | people, country, economic, deficit, money |\n",
       "\n"
      ],
      "text/plain": [
       "  topic_1                                   topic_2                       \n",
       "1 donotknow, problem, economy, party, right economy, war, iraq, job, world\n",
       "  topic_3                                    \n",
       "1 foreign, terrorism, affair, economy, policy\n",
       "  topic_4                                  \n",
       "1 people, country, economic, deficit, money"
      ]
     },
     "metadata": {},
     "output_type": "display_data"
    }
   ],
   "source": [
    "stm_top_words"
   ]
  },
  {
   "cell_type": "code",
   "execution_count": 30,
   "metadata": {},
   "outputs": [],
   "source": [
    "write.csv(stm_top_words, \n",
    "          paste(path_data,\"stm_anes_top_words.csv\",sep=''), \n",
    "          row.names = FALSE)"
   ]
  },
  {
   "cell_type": "code",
   "execution_count": null,
   "metadata": {},
   "outputs": [],
   "source": []
  },
  {
   "cell_type": "code",
   "execution_count": null,
   "metadata": {},
   "outputs": [],
   "source": []
  },
  {
   "cell_type": "code",
   "execution_count": null,
   "metadata": {},
   "outputs": [],
   "source": [
    "# Make plots"
   ]
  },
  {
   "cell_type": "code",
   "execution_count": 7,
   "metadata": {},
   "outputs": [
    {
     "name": "stderr",
     "output_type": "stream",
     "text": [
      "Warning message:\n",
      "\"\u001b[1m\u001b[22mUsing `size` aesthetic for lines was deprecated in ggplot2 3.4.0.\n",
      "\u001b[36mℹ\u001b[39m Please use `linewidth` instead.\"\n"
     ]
    },
    {
     "data": {
      "image/png": "[encoded data removed]",
      "text/plain": [
       "plot without title"
      ]
     },
     "metadata": {
      "image/png": {
       "height": 420,
       "width": 420
      }
     },
     "output_type": "display_data"
    }
   ],
   "source": [
    "# load X_all\n",
    "feature_imp <- read.csv(\"anes_shap_bert_allwords_110324_train_lemma_shap_lemma.csv\"\n",
    "                          ,header = TRUE, sep = \",\")\n",
    "\n",
    "# compute mean and t-val for each word\n",
    "\n",
    "words_shap <- data.frame(word=colnames(feature_imp))\n",
    "words_shap$mean <- 0\n",
    "words_shap$se <- 0\n",
    "words_shap$t_val <- 0\n",
    "words_shap$p_val <- 0\n",
    "\n",
    "\n",
    "for (i in c(1:nrow(words_shap))){\n",
    "    word_name <- words_shap$word[i]\n",
    "    shap_col <- feature_imp[,word_name]\n",
    "#     shap_col <- shap_col[which(shap_col!=0)]\n",
    "    words_shap$mean[i] <- mean(shap_col)\n",
    "#     words_shap$median[i] <- median(shap_col)\n",
    "    words_shap$se[i] <- sd(shap_col)/sqrt(length(shap_col))\n",
    "    words_shap$t_val[i] <- abs(words_shap$mean[i]/words_shap$se[i])\n",
    "#     words_shap$t_val[i] <- abs(words_shap$mean[i]/(words_shap$sd[i]))\n",
    "    words_shap$p_val[i] <- t.test(feature_imp[,word_name])$p.val\n",
    "}\n",
    "words_shap$mean_abs <- abs(words_shap$mean)\n",
    "words_shap <- words_shap[order(-words_shap$mean_abs),]\n",
    "\n",
    "n_words <- 5\n",
    "# word_shap_tmp <- words_shap[which(words_shap$mean>0&words_shap$t_val>1.96),]\n",
    "word_shap_tmp <- words_shap[which(words_shap$mean>0&words_shap$p_val<0.1),]\n",
    "words_tmp <- word_shap_tmp[1:n_words,'word']\n",
    "# words_tmp_corr <- word_shap_tmp[1:n_words,'word_corr']\n",
    "\n",
    "# word_shap_tmp <- words_shap[which(words_shap$mean<0&words_shap$t_val>1.96),]\n",
    "word_shap_tmp <- words_shap[which(words_shap$mean<0&words_shap$p_val<0.1),]\n",
    "words_tmp <- c(words_tmp,word_shap_tmp[1:n_words,'word'])\n",
    "# words_tmp_corr <-  c(words_tmp_corr,word_shap_tmp[1:n_words,'word_corr'])\n",
    "\n",
    "shap_words_tmp <- feature_imp[,words_tmp]\n",
    "\n",
    "\n",
    "# reshape as long datafile\n",
    "\n",
    "index <- 1\n",
    "for (i in colnames(shap_words_tmp)){\n",
    "    n_obs <- nrow(shap_words_tmp)\n",
    "    if(index==1){\n",
    "        shap_words_tmp_reshape <- data.frame(shap=shap_words_tmp[,index],word=colnames(shap_words_tmp)[index])\n",
    "    }else{\n",
    "        tmp_reshape <- data.frame(shap=shap_words_tmp[,index],word=colnames(shap_words_tmp)[index])\n",
    "        shap_words_tmp_reshape <- rbind(shap_words_tmp_reshape,tmp_reshape)\n",
    "    }\n",
    "    index <- index+1\n",
    "}\n",
    "\n",
    "# shap_words_tmp_reshape <- shap_words_tmp_reshape[which(shap_words_tmp_reshape$shap!=0),]\n",
    "shap_words_tmp_reshape$word <- fct_rev(factor(shap_words_tmp_reshape$word , levels=colnames(shap_words_tmp)))\n",
    "\n",
    "min.mean.sd.max <- function(x) {\n",
    "  r <- c(t.test(x)$\"conf.int\"[1], t.test(x)$\"conf.int\"[1], \n",
    "         mean(x), t.test(x)$\"conf.int\"[2], \n",
    "         t.test(x)$\"conf.int\"[2])\n",
    "  names(r) <- c(\"ymin\", \"lower\", \"middle\", \"upper\", \"ymax\")\n",
    "  r\n",
    "}\n",
    "\n",
    "ggplot(shap_words_tmp_reshape, aes(x = shap, y = word)) + \n",
    "  geom_vline(xintercept =0) + \n",
    "  theme_light() + \n",
    "  xlab(\"SHAP Value\") +\n",
    "  theme(axis.title.x = element_text(size = 20),\n",
    "        axis.text.x = element_text(size = 12),\n",
    "        axis.title.y = element_text(size =0),\n",
    "        axis.text.y = element_text(size =20)) +\n",
    "  stat_summary(fun.data = min.mean.sd.max, geom = \"errorbar\", size=0.5) +\n",
    "  stat_summary(\n",
    "    geom = \"point\",\n",
    "    fun = \"mean\",\n",
    "    col = \"black\",\n",
    "    size = 3,\n",
    "    shape = 21,\n",
    "    fill = \"black\"\n",
    "  )\n"
   ]
  },
  {
   "cell_type": "code",
   "execution_count": null,
   "metadata": {},
   "outputs": [],
   "source": []
  }
 ],
 "metadata": {
  "kernelspec": {
   "display_name": "R",
   "language": "R",
   "name": "ir"
  },
  "language_info": {
   "codemirror_mode": "r",
   "file_extension": ".r",
   "mimetype": "text/x-r-source",
   "name": "R",
   "pygments_lexer": "r",
   "version": "4.2.0"
  }
 },
 "nbformat": 4,
 "nbformat_minor": 4
}
